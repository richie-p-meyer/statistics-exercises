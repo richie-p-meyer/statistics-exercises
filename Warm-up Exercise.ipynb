{
 "cells": [
  {
   "cell_type": "code",
   "execution_count": 1,
   "id": "7f7fdda7",
   "metadata": {},
   "outputs": [],
   "source": [
    "from pydataset import data\n",
    "import pandas as pd\n",
    "from scipy import stats\n"
   ]
  },
  {
   "cell_type": "code",
   "execution_count": 2,
   "id": "5dfa13fc",
   "metadata": {},
   "outputs": [],
   "source": [
    "df = data('cake')"
   ]
  },
  {
   "cell_type": "code",
   "execution_count": 3,
   "id": "57bd072e",
   "metadata": {},
   "outputs": [
    {
     "data": {
      "text/html": [
       "<div>\n",
       "<style scoped>\n",
       "    .dataframe tbody tr th:only-of-type {\n",
       "        vertical-align: middle;\n",
       "    }\n",
       "\n",
       "    .dataframe tbody tr th {\n",
       "        vertical-align: top;\n",
       "    }\n",
       "\n",
       "    .dataframe thead th {\n",
       "        text-align: right;\n",
       "    }\n",
       "</style>\n",
       "<table border=\"1\" class=\"dataframe\">\n",
       "  <thead>\n",
       "    <tr style=\"text-align: right;\">\n",
       "      <th></th>\n",
       "      <th>replicate</th>\n",
       "      <th>recipe</th>\n",
       "      <th>temperature</th>\n",
       "      <th>angle</th>\n",
       "      <th>temp</th>\n",
       "    </tr>\n",
       "  </thead>\n",
       "  <tbody>\n",
       "    <tr>\n",
       "      <th>1</th>\n",
       "      <td>1</td>\n",
       "      <td>A</td>\n",
       "      <td>175</td>\n",
       "      <td>42</td>\n",
       "      <td>175</td>\n",
       "    </tr>\n",
       "    <tr>\n",
       "      <th>2</th>\n",
       "      <td>1</td>\n",
       "      <td>A</td>\n",
       "      <td>185</td>\n",
       "      <td>46</td>\n",
       "      <td>185</td>\n",
       "    </tr>\n",
       "    <tr>\n",
       "      <th>3</th>\n",
       "      <td>1</td>\n",
       "      <td>A</td>\n",
       "      <td>195</td>\n",
       "      <td>47</td>\n",
       "      <td>195</td>\n",
       "    </tr>\n",
       "    <tr>\n",
       "      <th>4</th>\n",
       "      <td>1</td>\n",
       "      <td>A</td>\n",
       "      <td>205</td>\n",
       "      <td>39</td>\n",
       "      <td>205</td>\n",
       "    </tr>\n",
       "    <tr>\n",
       "      <th>5</th>\n",
       "      <td>1</td>\n",
       "      <td>A</td>\n",
       "      <td>215</td>\n",
       "      <td>53</td>\n",
       "      <td>215</td>\n",
       "    </tr>\n",
       "  </tbody>\n",
       "</table>\n",
       "</div>"
      ],
      "text/plain": [
       "   replicate recipe  temperature  angle  temp\n",
       "1          1      A          175     42   175\n",
       "2          1      A          185     46   185\n",
       "3          1      A          195     47   195\n",
       "4          1      A          205     39   205\n",
       "5          1      A          215     53   215"
      ]
     },
     "execution_count": 3,
     "metadata": {},
     "output_type": "execute_result"
    }
   ],
   "source": [
    "df.head()"
   ]
  },
  {
   "cell_type": "markdown",
   "id": "61dc6c54",
   "metadata": {},
   "source": [
    "Is there a difference in average temperature for different recipes?  \n",
    "\n",
    "H0 - There is no difference in avg temperature for the different recipes  \n",
    "Ha - There is a difference in avg temperature for the different recipes  "
   ]
  },
  {
   "cell_type": "code",
   "execution_count": 4,
   "id": "0d32d638",
   "metadata": {},
   "outputs": [],
   "source": [
    "a_recipe = df[df.recipe=='A']['temp']\n",
    "b_recipe = df[df.recipe=='B']['temp']\n",
    "c_recipe = df[df.recipe=='C']['temp']"
   ]
  },
  {
   "cell_type": "code",
   "execution_count": 5,
   "id": "e441068e",
   "metadata": {},
   "outputs": [
    {
     "data": {
      "text/plain": [
       "<AxesSubplot:>"
      ]
     },
     "execution_count": 5,
     "metadata": {},
     "output_type": "execute_result"
    },
    {
     "data": {
      "image/png": "[encoded data removed]",
      "text/plain": [
       "<Figure size 432x288 with 1 Axes>"
      ]
     },
     "metadata": {
      "needs_background": "light"
     },
     "output_type": "display_data"
    }
   ],
   "source": [
    "a_recipe.hist()"
   ]
  },
  {
   "cell_type": "code",
   "execution_count": 6,
   "id": "6c991cbf",
   "metadata": {},
   "outputs": [
    {
     "data": {
      "text/plain": [
       "<AxesSubplot:>"
      ]
     },
     "execution_count": 6,
     "metadata": {},
     "output_type": "execute_result"
    },
    {
     "data": {
      "image/png": "[encoded data removed]",
      "text/plain": [
       "<Figure size 432x288 with 1 Axes>"
      ]
     },
     "metadata": {
      "needs_background": "light"
     },
     "output_type": "display_data"
    }
   ],
   "source": [
    "b_recipe.hist()"
   ]
  },
  {
   "cell_type": "code",
   "execution_count": 7,
   "id": "2e730d82",
   "metadata": {},
   "outputs": [
    {
     "data": {
      "text/plain": [
       "<AxesSubplot:>"
      ]
     },
     "execution_count": 7,
     "metadata": {},
     "output_type": "execute_result"
    },
    {
     "data": {
      "image/png": "[encoded data removed]",
      "text/plain": [
       "<Figure size 432x288 with 1 Axes>"
      ]
     },
     "metadata": {
      "needs_background": "light"
     },
     "output_type": "display_data"
    }
   ],
   "source": [
    "c_recipe.hist()"
   ]
  },
  {
   "cell_type": "code",
   "execution_count": 13,
   "id": "bdef29f5",
   "metadata": {},
   "outputs": [
    {
     "data": {
      "text/plain": [
       "LeveneResult(statistic=0.0, pvalue=1.0)"
      ]
     },
     "execution_count": 13,
     "metadata": {},
     "output_type": "execute_result"
    }
   ],
   "source": [
    "stats.levene(a_recipe,b_recipe,c_recipe)"
   ]
  },
  {
   "cell_type": "code",
   "execution_count": 10,
   "id": "b0fb5122",
   "metadata": {},
   "outputs": [
    {
     "data": {
      "text/plain": [
       "F_onewayResult(statistic=0.0, pvalue=1.0)"
      ]
     },
     "execution_count": 10,
     "metadata": {},
     "output_type": "execute_result"
    }
   ],
   "source": [
    "stats.f_oneway(a_recipe,b_recipe,c_recipe)"
   ]
  },
  {
   "cell_type": "markdown",
   "id": "e96fb7b4",
   "metadata": {},
   "source": [
    "Conclusion: There is no difference between the datasets."
   ]
  },
  {
   "cell_type": "code",
   "execution_count": null,
   "id": "3103e0e0",
   "metadata": {},
   "outputs": [],
   "source": []
  }
 ],
 "metadata": {
  "kernelspec": {
   "display_name": "Python 3 (ipykernel)",
   "language": "python",
   "name": "python3"
  },
  "language_info": {
   "codemirror_mode": {
    "name": "ipython",
    "version": 3
   },
   "file_extension": ".py",
   "mimetype": "text/x-python",
   "name": "python",
   "nbconvert_exporter": "python",
   "pygments_lexer": "ipython3",
   "version": "3.9.7"
  }
 },
 "nbformat": 4,
 "nbformat_minor": 5
}
