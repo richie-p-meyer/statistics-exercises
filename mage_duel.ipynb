{
 "cells": [
  {
   "cell_type": "markdown",
   "id": "825037e8",
   "metadata": {},
   "source": [
    "Mage Duel!\n",
    "Let's use what we've learned to play a mage duel!\n",
    "\n",
    "Imagine your wizard has 6d4 health points and you have spells that do 6d4 damage. \"6d4\" means rolling six 4-sided dice and summing the result.\n",
    "\n",
    "Your opposing mage has 4d6 health points and spells that do 4d6. \"4d6\" means rolling four six-sided dice and summing the result.\n",
    "\n",
    "Exercises\n",
    "Simulate mage duels to answer who is the more powerful mage?\n",
    "\n",
    "Before running simulations, do you have a hypothesis of which mage will win? Do you have a hunch? Write it down. This is your first exercise.\n",
    "Simulate 10 mage duels. Is there a clear winner? Run that 10 duel simulation again. Was the answer similar?\n",
    "Do the results change much at 100 duels?\n",
    "Now, simulate 10,000 mage duels. Is there a clear winner?"
   ]
  },
  {
   "cell_type": "code",
   "execution_count": 61,
   "id": "e2be9e03",
   "metadata": {},
   "outputs": [],
   "source": [
    "import numpy as np\n",
    "import pandas as pd\n",
    "import matplotlib.pyplot as plt\n",
    "import seaborn as sns"
   ]
  },
  {
   "cell_type": "code",
   "execution_count": 57,
   "id": "d99a2685",
   "metadata": {},
   "outputs": [],
   "source": [
    "six_d_four_attack = np.random.randint(1,5,1000*6).reshape(1000,6).sum(axis=1)\n",
    "six_d_four_defense = np.random.randint(1,5,1000*6).reshape(1000,6).sum(axis=1)\n",
    "six_d_four_total = six_d_four_attack + six_d_four_defense"
   ]
  },
  {
   "cell_type": "code",
   "execution_count": 58,
   "id": "085ef9e3",
   "metadata": {},
   "outputs": [],
   "source": [
    "four_d_six_attack = np.random.randint(1,7,1000*4).reshape(1000,4).sum(axis=1)\n",
    "four_d_six_defense = np.random.randint(1,7,1000*4).reshape(1000,4).sum(axis=1)\n",
    "four_d_six_total = four_d_six_attack + four_d_six_defense"
   ]
  },
  {
   "cell_type": "code",
   "execution_count": 59,
   "id": "e6956812",
   "metadata": {},
   "outputs": [],
   "source": [
    "data = pd.DataFrame({'six_d_four_attack':six_d_four_attack,\n",
    "                     'six_d_four_defense':six_d_four_defense,\n",
    "                     'four_d_six_attack':four_d_six_attack,\n",
    "                     'four_d_six_defense':four_d_six_defense})"
   ]
  },
  {
   "cell_type": "code",
   "execution_count": 60,
   "id": "1b20b118",
   "metadata": {},
   "outputs": [
    {
     "data": {
      "text/html": [
       "<div>\n",
       "<style scoped>\n",
       "    .dataframe tbody tr th:only-of-type {\n",
       "        vertical-align: middle;\n",
       "    }\n",
       "\n",
       "    .dataframe tbody tr th {\n",
       "        vertical-align: top;\n",
       "    }\n",
       "\n",
       "    .dataframe thead th {\n",
       "        text-align: right;\n",
       "    }\n",
       "</style>\n",
       "<table border=\"1\" class=\"dataframe\">\n",
       "  <thead>\n",
       "    <tr style=\"text-align: right;\">\n",
       "      <th></th>\n",
       "      <th>six_d_four_attack</th>\n",
       "      <th>six_d_four_defense</th>\n",
       "      <th>four_d_six_attack</th>\n",
       "      <th>four_d_six_defense</th>\n",
       "    </tr>\n",
       "  </thead>\n",
       "  <tbody>\n",
       "    <tr>\n",
       "      <th>0</th>\n",
       "      <td>15</td>\n",
       "      <td>14</td>\n",
       "      <td>12</td>\n",
       "      <td>15</td>\n",
       "    </tr>\n",
       "    <tr>\n",
       "      <th>1</th>\n",
       "      <td>15</td>\n",
       "      <td>16</td>\n",
       "      <td>10</td>\n",
       "      <td>14</td>\n",
       "    </tr>\n",
       "    <tr>\n",
       "      <th>2</th>\n",
       "      <td>14</td>\n",
       "      <td>9</td>\n",
       "      <td>14</td>\n",
       "      <td>15</td>\n",
       "    </tr>\n",
       "    <tr>\n",
       "      <th>3</th>\n",
       "      <td>15</td>\n",
       "      <td>15</td>\n",
       "      <td>12</td>\n",
       "      <td>11</td>\n",
       "    </tr>\n",
       "    <tr>\n",
       "      <th>4</th>\n",
       "      <td>18</td>\n",
       "      <td>10</td>\n",
       "      <td>15</td>\n",
       "      <td>12</td>\n",
       "    </tr>\n",
       "  </tbody>\n",
       "</table>\n",
       "</div>"
      ],
      "text/plain": [
       "   six_d_four_attack  six_d_four_defense  four_d_six_attack  \\\n",
       "0                 15                  14                 12   \n",
       "1                 15                  16                 10   \n",
       "2                 14                   9                 14   \n",
       "3                 15                  15                 12   \n",
       "4                 18                  10                 15   \n",
       "\n",
       "   four_d_six_defense  \n",
       "0                  15  \n",
       "1                  14  \n",
       "2                  15  \n",
       "3                  11  \n",
       "4                  12  "
      ]
     },
     "execution_count": 60,
     "metadata": {},
     "output_type": "execute_result"
    }
   ],
   "source": [
    "data.head()"
   ]
  },
  {
   "cell_type": "code",
   "execution_count": 66,
   "id": "ae15c019",
   "metadata": {},
   "outputs": [
    {
     "data": {
      "text/html": [
       "<div>\n",
       "<style scoped>\n",
       "    .dataframe tbody tr th:only-of-type {\n",
       "        vertical-align: middle;\n",
       "    }\n",
       "\n",
       "    .dataframe tbody tr th {\n",
       "        vertical-align: top;\n",
       "    }\n",
       "\n",
       "    .dataframe thead th {\n",
       "        text-align: right;\n",
       "    }\n",
       "</style>\n",
       "<table border=\"1\" class=\"dataframe\">\n",
       "  <thead>\n",
       "    <tr style=\"text-align: right;\">\n",
       "      <th></th>\n",
       "      <th>six_d_four_attack</th>\n",
       "      <th>six_d_four_defense</th>\n",
       "      <th>four_d_six_attack</th>\n",
       "      <th>four_d_six_defense</th>\n",
       "    </tr>\n",
       "  </thead>\n",
       "  <tbody>\n",
       "    <tr>\n",
       "      <th>count</th>\n",
       "      <td>1000.000000</td>\n",
       "      <td>1000.000000</td>\n",
       "      <td>1000.000000</td>\n",
       "      <td>1000.000000</td>\n",
       "    </tr>\n",
       "    <tr>\n",
       "      <th>mean</th>\n",
       "      <td>14.972000</td>\n",
       "      <td>15.056000</td>\n",
       "      <td>13.957000</td>\n",
       "      <td>13.976000</td>\n",
       "    </tr>\n",
       "    <tr>\n",
       "      <th>std</th>\n",
       "      <td>2.700835</td>\n",
       "      <td>2.717766</td>\n",
       "      <td>3.497339</td>\n",
       "      <td>3.312763</td>\n",
       "    </tr>\n",
       "    <tr>\n",
       "      <th>min</th>\n",
       "      <td>7.000000</td>\n",
       "      <td>8.000000</td>\n",
       "      <td>4.000000</td>\n",
       "      <td>4.000000</td>\n",
       "    </tr>\n",
       "    <tr>\n",
       "      <th>25%</th>\n",
       "      <td>13.000000</td>\n",
       "      <td>13.000000</td>\n",
       "      <td>12.000000</td>\n",
       "      <td>12.000000</td>\n",
       "    </tr>\n",
       "    <tr>\n",
       "      <th>50%</th>\n",
       "      <td>15.000000</td>\n",
       "      <td>15.000000</td>\n",
       "      <td>14.000000</td>\n",
       "      <td>14.000000</td>\n",
       "    </tr>\n",
       "    <tr>\n",
       "      <th>75%</th>\n",
       "      <td>17.000000</td>\n",
       "      <td>17.000000</td>\n",
       "      <td>16.000000</td>\n",
       "      <td>16.000000</td>\n",
       "    </tr>\n",
       "    <tr>\n",
       "      <th>max</th>\n",
       "      <td>24.000000</td>\n",
       "      <td>23.000000</td>\n",
       "      <td>24.000000</td>\n",
       "      <td>24.000000</td>\n",
       "    </tr>\n",
       "  </tbody>\n",
       "</table>\n",
       "</div>"
      ],
      "text/plain": [
       "       six_d_four_attack  six_d_four_defense  four_d_six_attack  \\\n",
       "count        1000.000000         1000.000000        1000.000000   \n",
       "mean           14.972000           15.056000          13.957000   \n",
       "std             2.700835            2.717766           3.497339   \n",
       "min             7.000000            8.000000           4.000000   \n",
       "25%            13.000000           13.000000          12.000000   \n",
       "50%            15.000000           15.000000          14.000000   \n",
       "75%            17.000000           17.000000          16.000000   \n",
       "max            24.000000           23.000000          24.000000   \n",
       "\n",
       "       four_d_six_defense  \n",
       "count         1000.000000  \n",
       "mean            13.976000  \n",
       "std              3.312763  \n",
       "min              4.000000  \n",
       "25%             12.000000  \n",
       "50%             14.000000  \n",
       "75%             16.000000  \n",
       "max             24.000000  "
      ]
     },
     "execution_count": 66,
     "metadata": {},
     "output_type": "execute_result"
    }
   ],
   "source": [
    "data.describe()"
   ]
  },
  {
   "cell_type": "code",
   "execution_count": 63,
   "id": "2a85a298",
   "metadata": {},
   "outputs": [
    {
     "data": {
      "text/plain": [
       "<AxesSubplot:>"
      ]
     },
     "execution_count": 63,
     "metadata": {},
     "output_type": "execute_result"
    },
    {
     "data": {
      "image/png": "[encoded data removed]",
      "text/plain": [
       "<Figure size 432x288 with 1 Axes>"
      ]
     },
     "metadata": {
      "needs_background": "light"
     },
     "output_type": "display_data"
    }
   ],
   "source": [
    "sns.barplot(x = six_d_four_attack, y = four_d_six_attack,data=data)"
   ]
  },
  {
   "cell_type": "code",
   "execution_count": 76,
   "id": "39a5890d",
   "metadata": {},
   "outputs": [
    {
     "data": {
      "text/html": [
       "<div>\n",
       "<style scoped>\n",
       "    .dataframe tbody tr th:only-of-type {\n",
       "        vertical-align: middle;\n",
       "    }\n",
       "\n",
       "    .dataframe tbody tr th {\n",
       "        vertical-align: top;\n",
       "    }\n",
       "\n",
       "    .dataframe thead th {\n",
       "        text-align: right;\n",
       "    }\n",
       "</style>\n",
       "<table border=\"1\" class=\"dataframe\">\n",
       "  <thead>\n",
       "    <tr style=\"text-align: right;\">\n",
       "      <th></th>\n",
       "      <th>six_d_four_attack</th>\n",
       "      <th>six_d_four_defense</th>\n",
       "      <th>four_d_six_attack</th>\n",
       "      <th>four_d_six_defense</th>\n",
       "    </tr>\n",
       "  </thead>\n",
       "  <tbody>\n",
       "    <tr>\n",
       "      <th>0</th>\n",
       "      <td>15</td>\n",
       "      <td>14</td>\n",
       "      <td>12</td>\n",
       "      <td>15</td>\n",
       "    </tr>\n",
       "    <tr>\n",
       "      <th>1</th>\n",
       "      <td>15</td>\n",
       "      <td>16</td>\n",
       "      <td>10</td>\n",
       "      <td>14</td>\n",
       "    </tr>\n",
       "    <tr>\n",
       "      <th>2</th>\n",
       "      <td>14</td>\n",
       "      <td>9</td>\n",
       "      <td>14</td>\n",
       "      <td>15</td>\n",
       "    </tr>\n",
       "    <tr>\n",
       "      <th>3</th>\n",
       "      <td>15</td>\n",
       "      <td>15</td>\n",
       "      <td>12</td>\n",
       "      <td>11</td>\n",
       "    </tr>\n",
       "    <tr>\n",
       "      <th>4</th>\n",
       "      <td>18</td>\n",
       "      <td>10</td>\n",
       "      <td>15</td>\n",
       "      <td>12</td>\n",
       "    </tr>\n",
       "  </tbody>\n",
       "</table>\n",
       "</div>"
      ],
      "text/plain": [
       "   six_d_four_attack  six_d_four_defense  four_d_six_attack  \\\n",
       "0                 15                  14                 12   \n",
       "1                 15                  16                 10   \n",
       "2                 14                   9                 14   \n",
       "3                 15                  15                 12   \n",
       "4                 18                  10                 15   \n",
       "\n",
       "   four_d_six_defense  \n",
       "0                  15  \n",
       "1                  14  \n",
       "2                  15  \n",
       "3                  11  \n",
       "4                  12  "
      ]
     },
     "execution_count": 76,
     "metadata": {},
     "output_type": "execute_result"
    }
   ],
   "source": [
    "data.head()"
   ]
  },
  {
   "cell_type": "code",
   "execution_count": 77,
   "id": "2247b811",
   "metadata": {},
   "outputs": [],
   "source": [
    "cols = ['six_d_four_attack','six_d_four_defense','four_d_six_attack','four_d_six_defense']"
   ]
  },
  {
   "cell_type": "code",
   "execution_count": 78,
   "id": "fa89e0cd",
   "metadata": {},
   "outputs": [],
   "source": [
    "for col in cols:\n",
    "    data[col+'-csum'] = data[col].cumsum()"
   ]
  },
  {
   "cell_type": "code",
   "execution_count": 79,
   "id": "96a41681",
   "metadata": {},
   "outputs": [
    {
     "data": {
      "text/html": [
       "<div>\n",
       "<style scoped>\n",
       "    .dataframe tbody tr th:only-of-type {\n",
       "        vertical-align: middle;\n",
       "    }\n",
       "\n",
       "    .dataframe tbody tr th {\n",
       "        vertical-align: top;\n",
       "    }\n",
       "\n",
       "    .dataframe thead th {\n",
       "        text-align: right;\n",
       "    }\n",
       "</style>\n",
       "<table border=\"1\" class=\"dataframe\">\n",
       "  <thead>\n",
       "    <tr style=\"text-align: right;\">\n",
       "      <th></th>\n",
       "      <th>six_d_four_attack</th>\n",
       "      <th>six_d_four_defense</th>\n",
       "      <th>four_d_six_attack</th>\n",
       "      <th>four_d_six_defense</th>\n",
       "      <th>six_d_four_attack-csum</th>\n",
       "      <th>six_d_four_defense-csum</th>\n",
       "      <th>four_d_six_attack-csum</th>\n",
       "      <th>four_d_six_defense-csum</th>\n",
       "    </tr>\n",
       "  </thead>\n",
       "  <tbody>\n",
       "    <tr>\n",
       "      <th>0</th>\n",
       "      <td>15</td>\n",
       "      <td>14</td>\n",
       "      <td>12</td>\n",
       "      <td>15</td>\n",
       "      <td>15</td>\n",
       "      <td>14</td>\n",
       "      <td>12</td>\n",
       "      <td>15</td>\n",
       "    </tr>\n",
       "    <tr>\n",
       "      <th>1</th>\n",
       "      <td>15</td>\n",
       "      <td>16</td>\n",
       "      <td>10</td>\n",
       "      <td>14</td>\n",
       "      <td>30</td>\n",
       "      <td>30</td>\n",
       "      <td>22</td>\n",
       "      <td>29</td>\n",
       "    </tr>\n",
       "    <tr>\n",
       "      <th>2</th>\n",
       "      <td>14</td>\n",
       "      <td>9</td>\n",
       "      <td>14</td>\n",
       "      <td>15</td>\n",
       "      <td>44</td>\n",
       "      <td>39</td>\n",
       "      <td>36</td>\n",
       "      <td>44</td>\n",
       "    </tr>\n",
       "    <tr>\n",
       "      <th>3</th>\n",
       "      <td>15</td>\n",
       "      <td>15</td>\n",
       "      <td>12</td>\n",
       "      <td>11</td>\n",
       "      <td>59</td>\n",
       "      <td>54</td>\n",
       "      <td>48</td>\n",
       "      <td>55</td>\n",
       "    </tr>\n",
       "    <tr>\n",
       "      <th>4</th>\n",
       "      <td>18</td>\n",
       "      <td>10</td>\n",
       "      <td>15</td>\n",
       "      <td>12</td>\n",
       "      <td>77</td>\n",
       "      <td>64</td>\n",
       "      <td>63</td>\n",
       "      <td>67</td>\n",
       "    </tr>\n",
       "  </tbody>\n",
       "</table>\n",
       "</div>"
      ],
      "text/plain": [
       "   six_d_four_attack  six_d_four_defense  four_d_six_attack  \\\n",
       "0                 15                  14                 12   \n",
       "1                 15                  16                 10   \n",
       "2                 14                   9                 14   \n",
       "3                 15                  15                 12   \n",
       "4                 18                  10                 15   \n",
       "\n",
       "   four_d_six_defense  six_d_four_attack-csum  six_d_four_defense-csum  \\\n",
       "0                  15                      15                       14   \n",
       "1                  14                      30                       30   \n",
       "2                  15                      44                       39   \n",
       "3                  11                      59                       54   \n",
       "4                  12                      77                       64   \n",
       "\n",
       "   four_d_six_attack-csum  four_d_six_defense-csum  \n",
       "0                      12                       15  \n",
       "1                      22                       29  \n",
       "2                      36                       44  \n",
       "3                      48                       55  \n",
       "4                      63                       67  "
      ]
     },
     "execution_count": 79,
     "metadata": {},
     "output_type": "execute_result"
    }
   ],
   "source": [
    "data.head()"
   ]
  },
  {
   "cell_type": "code",
   "execution_count": 84,
   "id": "54166fa2",
   "metadata": {},
   "outputs": [
    {
     "data": {
      "text/plain": [
       "<AxesSubplot:ylabel='six_d_four_attack-csum'>"
      ]
     },
     "execution_count": 84,
     "metadata": {},
     "output_type": "execute_result"
    },
    {
     "data": {
      "image/png": "[encoded data removed]",
      "text/plain": [
       "<Figure size 432x288 with 1 Axes>"
      ]
     },
     "metadata": {
      "needs_background": "light"
     },
     "output_type": "display_data"
    }
   ],
   "source": [
    "sns.lineplot(data=data,x = data.index, y ='six_d_four_attack-csum')\n",
    "sns.lineplot(data=data,x = data.index, y ='four_d_six_attack-csum')"
   ]
  },
  {
   "cell_type": "code",
   "execution_count": null,
   "id": "69c48fe5",
   "metadata": {},
   "outputs": [],
   "source": []
  }
 ],
 "metadata": {
  "kernelspec": {
   "display_name": "Python 3 (ipykernel)",
   "language": "python",
   "name": "python3"
  },
  "language_info": {
   "codemirror_mode": {
    "name": "ipython",
    "version": 3
   },
   "file_extension": ".py",
   "mimetype": "text/x-python",
   "name": "python",
   "nbconvert_exporter": "python",
   "pygments_lexer": "ipython3",
   "version": "3.9.7"
  }
 },
 "nbformat": 4,
 "nbformat_minor": 5
}
