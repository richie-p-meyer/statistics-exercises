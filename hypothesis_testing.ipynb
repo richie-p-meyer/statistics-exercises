{
 "cells": [
  {
   "cell_type": "markdown",
   "id": "9513eda5",
   "metadata": {},
   "source": [
    "For each of the following questions, formulate a null and alternative hypothesis (be as specific as you can be), then give an example of what a true positive, true negative, type I and type II errors would look like. Note that some of the questions are intentionally phrased in a vague way. It is your job to reword these as more precise questions that could be tested.\n",
    "\n",
    "Has the network latency gone up since we switched internet service providers?\n",
    "Is the website redesign any good?\n",
    "Is our television ad driving more sales?"
   ]
  },
  {
   "cell_type": "markdown",
   "id": "fc7cce06",
   "metadata": {},
   "source": [
    "### Has the network latency gone up since we switched internet service providers?"
   ]
  },
  {
   "cell_type": "markdown",
   "id": "23bebfb5",
   "metadata": {},
   "source": [
    "Ho - The mean network latency has stayed the same since switching internet providers   \n",
    "Ha - The mean network latency is different since switching internet providers   \n",
    "\n",
    "True positive - Mean network latency is different since switching internet providers   \n",
    "True negative - Mean network latency is the same since switching internet providers   \n",
    "Type 1 error - We think Mean network latency is different, but it's actually the same     \n",
    "Type 2 error - We think Mean network latency is the same, but it's actually different       "
   ]
  },
  {
   "cell_type": "markdown",
   "id": "fe44bc79",
   "metadata": {},
   "source": [
    "###  Is the website redesign any good?"
   ]
  },
  {
   "cell_type": "markdown",
   "id": "03383616",
   "metadata": {},
   "source": [
    "Ho - Web traffic has stayed the same since the redesign   \n",
    "Ha - There has been an increase in web traffic since the redesign   \n",
    "\n",
    "True positive - There has been an increase in web traffic since the redesign   \n",
    "True negative - Web traffic has stayed the same since the redesign   \n",
    "Type 1 error - We think there has been an increase in web traffic but it's actually stayed the same   \n",
    "Type 2 error - We think web traffic is the same, but it's actually increased   "
   ]
  },
  {
   "cell_type": "markdown",
   "id": "3457ea86",
   "metadata": {},
   "source": [
    "### Is our television ad driving more sales?"
   ]
  },
  {
   "cell_type": "markdown",
   "id": "b9436865",
   "metadata": {},
   "source": [
    "Ho - The number of sales has stayed the same with the ad   \n",
    "Ha - The number of sales has changed with the ad   \n",
    "\n",
    "True positive - The number of sales has changed with the ad   \n",
    "True negative - The number of sales has stayed the same with the ad   \n",
    "Type 1 error - We think the number of sales has changed but it's actually stayed the same   \n",
    "Type 2 error - We think the number of sales is the same, but it's actually changed   "
   ]
  },
  {
   "cell_type": "markdown",
   "id": "6e76bef4",
   "metadata": {},
   "source": [
    "### Answer with the type of test you would use (assume normal distribution):\n",
    "\n",
    "1)Is there a difference in grades of students on the second floor compared to grades of all students?  \n",
    "2)Are adults who drink milk taller than adults who dont drink milk?  \n",
    "3)Is the the price of gas higher in texas or in new mexico?  \n",
    "4)Are there differences in stress levels between students who take data science vs students who take web development vs students who take cloud academy?"
   ]
  },
  {
   "cell_type": "markdown",
   "id": "e2fbd71c",
   "metadata": {},
   "source": [
    "1) One sample t test, two tail (scipy.stats.ttest_1samp)  \n",
    "2) Independent t test, one tail (scipy.stats.ttest_ind)  \n",
    "3) Independent t test, two tail (scipy.stats.ttest_ind)  \n",
    "4) ANOVA (scipy.stats.f_oneway)\n"
   ]
  },
  {
   "cell_type": "markdown",
   "id": "02c87d84",
   "metadata": {},
   "source": [
    "### Load the mpg dataset and use it to answer the following questions:\n",
    "\n",
    "Is there a difference in fuel-efficiency in cars from 2008 vs 1999?   \n",
    "Are compact cars more fuel-efficient than the average car?   \n",
    "Do manual cars get better gas mileage than automatic cars?   "
   ]
  },
  {
   "cell_type": "code",
   "execution_count": 24,
   "id": "ad9d7d8b",
   "metadata": {},
   "outputs": [],
   "source": [
    "import seaborn as sns\n",
    "import matplotlib.pyplot as plt\n",
    "from pydataset import data\n",
    "from scipy import stats\n",
    "\n"
   ]
  },
  {
   "cell_type": "code",
   "execution_count": 16,
   "id": "abdad915",
   "metadata": {},
   "outputs": [
    {
     "data": {
      "text/html": [
       "<div>\n",
       "<style scoped>\n",
       "    .dataframe tbody tr th:only-of-type {\n",
       "        vertical-align: middle;\n",
       "    }\n",
       "\n",
       "    .dataframe tbody tr th {\n",
       "        vertical-align: top;\n",
       "    }\n",
       "\n",
       "    .dataframe thead th {\n",
       "        text-align: right;\n",
       "    }\n",
       "</style>\n",
       "<table border=\"1\" class=\"dataframe\">\n",
       "  <thead>\n",
       "    <tr style=\"text-align: right;\">\n",
       "      <th></th>\n",
       "      <th>manufacturer</th>\n",
       "      <th>model</th>\n",
       "      <th>displ</th>\n",
       "      <th>year</th>\n",
       "      <th>cyl</th>\n",
       "      <th>trans</th>\n",
       "      <th>drv</th>\n",
       "      <th>cty</th>\n",
       "      <th>hwy</th>\n",
       "      <th>fl</th>\n",
       "      <th>class</th>\n",
       "    </tr>\n",
       "  </thead>\n",
       "  <tbody>\n",
       "    <tr>\n",
       "      <th>1</th>\n",
       "      <td>audi</td>\n",
       "      <td>a4</td>\n",
       "      <td>1.8</td>\n",
       "      <td>1999</td>\n",
       "      <td>4</td>\n",
       "      <td>auto(l5)</td>\n",
       "      <td>f</td>\n",
       "      <td>18</td>\n",
       "      <td>29</td>\n",
       "      <td>p</td>\n",
       "      <td>compact</td>\n",
       "    </tr>\n",
       "    <tr>\n",
       "      <th>2</th>\n",
       "      <td>audi</td>\n",
       "      <td>a4</td>\n",
       "      <td>1.8</td>\n",
       "      <td>1999</td>\n",
       "      <td>4</td>\n",
       "      <td>manual(m5)</td>\n",
       "      <td>f</td>\n",
       "      <td>21</td>\n",
       "      <td>29</td>\n",
       "      <td>p</td>\n",
       "      <td>compact</td>\n",
       "    </tr>\n",
       "    <tr>\n",
       "      <th>3</th>\n",
       "      <td>audi</td>\n",
       "      <td>a4</td>\n",
       "      <td>2.0</td>\n",
       "      <td>2008</td>\n",
       "      <td>4</td>\n",
       "      <td>manual(m6)</td>\n",
       "      <td>f</td>\n",
       "      <td>20</td>\n",
       "      <td>31</td>\n",
       "      <td>p</td>\n",
       "      <td>compact</td>\n",
       "    </tr>\n",
       "    <tr>\n",
       "      <th>4</th>\n",
       "      <td>audi</td>\n",
       "      <td>a4</td>\n",
       "      <td>2.0</td>\n",
       "      <td>2008</td>\n",
       "      <td>4</td>\n",
       "      <td>auto(av)</td>\n",
       "      <td>f</td>\n",
       "      <td>21</td>\n",
       "      <td>30</td>\n",
       "      <td>p</td>\n",
       "      <td>compact</td>\n",
       "    </tr>\n",
       "    <tr>\n",
       "      <th>5</th>\n",
       "      <td>audi</td>\n",
       "      <td>a4</td>\n",
       "      <td>2.8</td>\n",
       "      <td>1999</td>\n",
       "      <td>6</td>\n",
       "      <td>auto(l5)</td>\n",
       "      <td>f</td>\n",
       "      <td>16</td>\n",
       "      <td>26</td>\n",
       "      <td>p</td>\n",
       "      <td>compact</td>\n",
       "    </tr>\n",
       "  </tbody>\n",
       "</table>\n",
       "</div>"
      ],
      "text/plain": [
       "  manufacturer model  displ  year  cyl       trans drv  cty  hwy fl    class\n",
       "1         audi    a4    1.8  1999    4    auto(l5)   f   18   29  p  compact\n",
       "2         audi    a4    1.8  1999    4  manual(m5)   f   21   29  p  compact\n",
       "3         audi    a4    2.0  2008    4  manual(m6)   f   20   31  p  compact\n",
       "4         audi    a4    2.0  2008    4    auto(av)   f   21   30  p  compact\n",
       "5         audi    a4    2.8  1999    6    auto(l5)   f   16   26  p  compact"
      ]
     },
     "execution_count": 16,
     "metadata": {},
     "output_type": "execute_result"
    }
   ],
   "source": [
    "mpg = data('mpg')\n",
    "mpg.head()"
   ]
  },
  {
   "cell_type": "markdown",
   "id": "39c279d7",
   "metadata": {},
   "source": [
    "Is there a difference in fuel-efficiency in cars from 2008 vs 1999?"
   ]
  },
  {
   "cell_type": "code",
   "execution_count": 17,
   "id": "7a42a2af",
   "metadata": {},
   "outputs": [
    {
     "data": {
      "text/plain": [
       "array([1999, 2008])"
      ]
     },
     "execution_count": 17,
     "metadata": {},
     "output_type": "execute_result"
    }
   ],
   "source": [
    "mpg.year.unique()"
   ]
  },
  {
   "cell_type": "code",
   "execution_count": 18,
   "id": "46fa4582",
   "metadata": {},
   "outputs": [],
   "source": [
    "mpg['combined_mpg']= (mpg['cty']+mpg['hwy'])/2"
   ]
  },
  {
   "cell_type": "code",
   "execution_count": 19,
   "id": "8bd161d4",
   "metadata": {},
   "outputs": [
    {
     "data": {
      "text/html": [
       "<div>\n",
       "<style scoped>\n",
       "    .dataframe tbody tr th:only-of-type {\n",
       "        vertical-align: middle;\n",
       "    }\n",
       "\n",
       "    .dataframe tbody tr th {\n",
       "        vertical-align: top;\n",
       "    }\n",
       "\n",
       "    .dataframe thead th {\n",
       "        text-align: right;\n",
       "    }\n",
       "</style>\n",
       "<table border=\"1\" class=\"dataframe\">\n",
       "  <thead>\n",
       "    <tr style=\"text-align: right;\">\n",
       "      <th></th>\n",
       "      <th>manufacturer</th>\n",
       "      <th>model</th>\n",
       "      <th>displ</th>\n",
       "      <th>year</th>\n",
       "      <th>cyl</th>\n",
       "      <th>trans</th>\n",
       "      <th>drv</th>\n",
       "      <th>cty</th>\n",
       "      <th>hwy</th>\n",
       "      <th>fl</th>\n",
       "      <th>class</th>\n",
       "      <th>combined_mpg</th>\n",
       "    </tr>\n",
       "  </thead>\n",
       "  <tbody>\n",
       "    <tr>\n",
       "      <th>1</th>\n",
       "      <td>audi</td>\n",
       "      <td>a4</td>\n",
       "      <td>1.8</td>\n",
       "      <td>1999</td>\n",
       "      <td>4</td>\n",
       "      <td>auto(l5)</td>\n",
       "      <td>f</td>\n",
       "      <td>18</td>\n",
       "      <td>29</td>\n",
       "      <td>p</td>\n",
       "      <td>compact</td>\n",
       "      <td>23.5</td>\n",
       "    </tr>\n",
       "    <tr>\n",
       "      <th>2</th>\n",
       "      <td>audi</td>\n",
       "      <td>a4</td>\n",
       "      <td>1.8</td>\n",
       "      <td>1999</td>\n",
       "      <td>4</td>\n",
       "      <td>manual(m5)</td>\n",
       "      <td>f</td>\n",
       "      <td>21</td>\n",
       "      <td>29</td>\n",
       "      <td>p</td>\n",
       "      <td>compact</td>\n",
       "      <td>25.0</td>\n",
       "    </tr>\n",
       "    <tr>\n",
       "      <th>3</th>\n",
       "      <td>audi</td>\n",
       "      <td>a4</td>\n",
       "      <td>2.0</td>\n",
       "      <td>2008</td>\n",
       "      <td>4</td>\n",
       "      <td>manual(m6)</td>\n",
       "      <td>f</td>\n",
       "      <td>20</td>\n",
       "      <td>31</td>\n",
       "      <td>p</td>\n",
       "      <td>compact</td>\n",
       "      <td>25.5</td>\n",
       "    </tr>\n",
       "    <tr>\n",
       "      <th>4</th>\n",
       "      <td>audi</td>\n",
       "      <td>a4</td>\n",
       "      <td>2.0</td>\n",
       "      <td>2008</td>\n",
       "      <td>4</td>\n",
       "      <td>auto(av)</td>\n",
       "      <td>f</td>\n",
       "      <td>21</td>\n",
       "      <td>30</td>\n",
       "      <td>p</td>\n",
       "      <td>compact</td>\n",
       "      <td>25.5</td>\n",
       "    </tr>\n",
       "    <tr>\n",
       "      <th>5</th>\n",
       "      <td>audi</td>\n",
       "      <td>a4</td>\n",
       "      <td>2.8</td>\n",
       "      <td>1999</td>\n",
       "      <td>6</td>\n",
       "      <td>auto(l5)</td>\n",
       "      <td>f</td>\n",
       "      <td>16</td>\n",
       "      <td>26</td>\n",
       "      <td>p</td>\n",
       "      <td>compact</td>\n",
       "      <td>21.0</td>\n",
       "    </tr>\n",
       "  </tbody>\n",
       "</table>\n",
       "</div>"
      ],
      "text/plain": [
       "  manufacturer model  displ  year  cyl       trans drv  cty  hwy fl    class  \\\n",
       "1         audi    a4    1.8  1999    4    auto(l5)   f   18   29  p  compact   \n",
       "2         audi    a4    1.8  1999    4  manual(m5)   f   21   29  p  compact   \n",
       "3         audi    a4    2.0  2008    4  manual(m6)   f   20   31  p  compact   \n",
       "4         audi    a4    2.0  2008    4    auto(av)   f   21   30  p  compact   \n",
       "5         audi    a4    2.8  1999    6    auto(l5)   f   16   26  p  compact   \n",
       "\n",
       "   combined_mpg  \n",
       "1          23.5  \n",
       "2          25.0  \n",
       "3          25.5  \n",
       "4          25.5  \n",
       "5          21.0  "
      ]
     },
     "execution_count": 19,
     "metadata": {},
     "output_type": "execute_result"
    }
   ],
   "source": [
    "mpg.head()"
   ]
  },
  {
   "cell_type": "markdown",
   "id": "e81e7e00",
   "metadata": {},
   "source": [
    "H0: There is no difference in the mean fuel-efficiency between cars from 2008 and 1999  \n",
    "Ha: There is a difference in the mean fuel-efficiency between cars from 2008 and 1999"
   ]
  },
  {
   "cell_type": "code",
   "execution_count": 20,
   "id": "b5f0dffa",
   "metadata": {},
   "outputs": [],
   "source": [
    "mpg_08 = mpg[mpg.year==2008].combined_mpg\n",
    "mpg_99 = mpg[mpg.year==1999].combined_mpg"
   ]
  },
  {
   "cell_type": "code",
   "execution_count": 23,
   "id": "192cf231",
   "metadata": {},
   "outputs": [
    {
     "data": {
      "text/plain": [
       "<AxesSubplot:>"
      ]
     },
     "execution_count": 23,
     "metadata": {},
     "output_type": "execute_result"
    },
    {
     "data": {
      "image/png": "[encoded data removed]",
      "text/plain": [
       "<Figure size 432x288 with 1 Axes>"
      ]
     },
     "metadata": {
      "needs_background": "light"
     },
     "output_type": "display_data"
    }
   ],
   "source": [
    "mpg_08.hist(alpha=.5)\n",
    "mpg_99.hist(alpha=.5)"
   ]
  },
  {
   "cell_type": "code",
   "execution_count": 27,
   "id": "93542c7a",
   "metadata": {},
   "outputs": [],
   "source": [
    "t, p = stats.ttest_ind(mpg_99,mpg_08)\n",
    "alpha = .05"
   ]
  },
  {
   "cell_type": "code",
   "execution_count": 28,
   "id": "23ae10d3",
   "metadata": {},
   "outputs": [
    {
     "name": "stdout",
     "output_type": "stream",
     "text": [
      "We fail to reject the null hypthesis with p = 0.8263744040323578\n"
     ]
    }
   ],
   "source": [
    "if p < alpha:\n",
    "    print(f\"We reject the null hypthesis with p = {p}\")\n",
    "else:\n",
    "    print(f\"We fail to reject the null hypthesis with p = {p}\")"
   ]
  },
  {
   "cell_type": "markdown",
   "id": "59ccc3de",
   "metadata": {},
   "source": [
    "### Are compact cars more fuel-efficient than the average car?"
   ]
  },
  {
   "cell_type": "markdown",
   "id": "6576af3c",
   "metadata": {},
   "source": [
    "h0 = The mean fuel-efficiency for compact cars is less than or equal to the average car    \n",
    "ha = The mean fuel-efficiency for compact cars is greater than the average car "
   ]
  },
  {
   "cell_type": "code",
   "execution_count": 30,
   "id": "fc45b213",
   "metadata": {},
   "outputs": [
    {
     "data": {
      "text/html": [
       "<div>\n",
       "<style scoped>\n",
       "    .dataframe tbody tr th:only-of-type {\n",
       "        vertical-align: middle;\n",
       "    }\n",
       "\n",
       "    .dataframe tbody tr th {\n",
       "        vertical-align: top;\n",
       "    }\n",
       "\n",
       "    .dataframe thead th {\n",
       "        text-align: right;\n",
       "    }\n",
       "</style>\n",
       "<table border=\"1\" class=\"dataframe\">\n",
       "  <thead>\n",
       "    <tr style=\"text-align: right;\">\n",
       "      <th></th>\n",
       "      <th>manufacturer</th>\n",
       "      <th>model</th>\n",
       "      <th>displ</th>\n",
       "      <th>year</th>\n",
       "      <th>cyl</th>\n",
       "      <th>trans</th>\n",
       "      <th>drv</th>\n",
       "      <th>cty</th>\n",
       "      <th>hwy</th>\n",
       "      <th>fl</th>\n",
       "      <th>class</th>\n",
       "      <th>combined_mpg</th>\n",
       "    </tr>\n",
       "  </thead>\n",
       "  <tbody>\n",
       "    <tr>\n",
       "      <th>1</th>\n",
       "      <td>audi</td>\n",
       "      <td>a4</td>\n",
       "      <td>1.8</td>\n",
       "      <td>1999</td>\n",
       "      <td>4</td>\n",
       "      <td>auto(l5)</td>\n",
       "      <td>f</td>\n",
       "      <td>18</td>\n",
       "      <td>29</td>\n",
       "      <td>p</td>\n",
       "      <td>compact</td>\n",
       "      <td>23.5</td>\n",
       "    </tr>\n",
       "    <tr>\n",
       "      <th>2</th>\n",
       "      <td>audi</td>\n",
       "      <td>a4</td>\n",
       "      <td>1.8</td>\n",
       "      <td>1999</td>\n",
       "      <td>4</td>\n",
       "      <td>manual(m5)</td>\n",
       "      <td>f</td>\n",
       "      <td>21</td>\n",
       "      <td>29</td>\n",
       "      <td>p</td>\n",
       "      <td>compact</td>\n",
       "      <td>25.0</td>\n",
       "    </tr>\n",
       "    <tr>\n",
       "      <th>3</th>\n",
       "      <td>audi</td>\n",
       "      <td>a4</td>\n",
       "      <td>2.0</td>\n",
       "      <td>2008</td>\n",
       "      <td>4</td>\n",
       "      <td>manual(m6)</td>\n",
       "      <td>f</td>\n",
       "      <td>20</td>\n",
       "      <td>31</td>\n",
       "      <td>p</td>\n",
       "      <td>compact</td>\n",
       "      <td>25.5</td>\n",
       "    </tr>\n",
       "    <tr>\n",
       "      <th>4</th>\n",
       "      <td>audi</td>\n",
       "      <td>a4</td>\n",
       "      <td>2.0</td>\n",
       "      <td>2008</td>\n",
       "      <td>4</td>\n",
       "      <td>auto(av)</td>\n",
       "      <td>f</td>\n",
       "      <td>21</td>\n",
       "      <td>30</td>\n",
       "      <td>p</td>\n",
       "      <td>compact</td>\n",
       "      <td>25.5</td>\n",
       "    </tr>\n",
       "    <tr>\n",
       "      <th>5</th>\n",
       "      <td>audi</td>\n",
       "      <td>a4</td>\n",
       "      <td>2.8</td>\n",
       "      <td>1999</td>\n",
       "      <td>6</td>\n",
       "      <td>auto(l5)</td>\n",
       "      <td>f</td>\n",
       "      <td>16</td>\n",
       "      <td>26</td>\n",
       "      <td>p</td>\n",
       "      <td>compact</td>\n",
       "      <td>21.0</td>\n",
       "    </tr>\n",
       "  </tbody>\n",
       "</table>\n",
       "</div>"
      ],
      "text/plain": [
       "  manufacturer model  displ  year  cyl       trans drv  cty  hwy fl    class  \\\n",
       "1         audi    a4    1.8  1999    4    auto(l5)   f   18   29  p  compact   \n",
       "2         audi    a4    1.8  1999    4  manual(m5)   f   21   29  p  compact   \n",
       "3         audi    a4    2.0  2008    4  manual(m6)   f   20   31  p  compact   \n",
       "4         audi    a4    2.0  2008    4    auto(av)   f   21   30  p  compact   \n",
       "5         audi    a4    2.8  1999    6    auto(l5)   f   16   26  p  compact   \n",
       "\n",
       "   combined_mpg  \n",
       "1          23.5  \n",
       "2          25.0  \n",
       "3          25.5  \n",
       "4          25.5  \n",
       "5          21.0  "
      ]
     },
     "execution_count": 30,
     "metadata": {},
     "output_type": "execute_result"
    }
   ],
   "source": [
    "mpg.head()"
   ]
  },
  {
   "cell_type": "code",
   "execution_count": 39,
   "id": "21174e0e",
   "metadata": {},
   "outputs": [],
   "source": [
    "compact_mpg = mpg[mpg['class']=='compact'].combined_mpg\n",
    "average_mpg = mpg.combined_mpg"
   ]
  },
  {
   "cell_type": "code",
   "execution_count": 60,
   "id": "4cfd7f26",
   "metadata": {},
   "outputs": [
    {
     "data": {
      "text/plain": [
       "(array([ 0.,  0.,  0.,  9., 17., 16.,  3.,  1.,  0.,  1.]),\n",
       " array([10., 13., 16., 19., 22., 25., 28., 31., 34., 37., 40.]),\n",
       " <BarContainer object of 10 artists>)"
      ]
     },
     "execution_count": 60,
     "metadata": {},
     "output_type": "execute_result"
    },
    {
     "data": {
      "image/png": "[encoded data removed]",
      "text/plain": [
       "<Figure size 432x288 with 1 Axes>"
      ]
     },
     "metadata": {
      "needs_background": "light"
     },
     "output_type": "display_data"
    }
   ],
   "source": [
    "plt.hist(compact_mpg, range = (10,40)) # Normal distribution?"
   ]
  },
  {
   "cell_type": "code",
   "execution_count": 46,
   "id": "974af2b2",
   "metadata": {},
   "outputs": [
    {
     "data": {
      "text/plain": [
       "<AxesSubplot:>"
      ]
     },
     "execution_count": 46,
     "metadata": {},
     "output_type": "execute_result"
    },
    {
     "data": {
      "image/png": "[encoded data removed]",
      "text/plain": [
       "<Figure size 432x288 with 1 Axes>"
      ]
     },
     "metadata": {
      "needs_background": "light"
     },
     "output_type": "display_data"
    }
   ],
   "source": [
    "average_mpg.hist() #Normal distribution"
   ]
  },
  {
   "cell_type": "code",
   "execution_count": 47,
   "id": "ae6eb2d9",
   "metadata": {},
   "outputs": [
    {
     "data": {
      "text/plain": [
       "(47, 234)"
      ]
     },
     "execution_count": 47,
     "metadata": {},
     "output_type": "execute_result"
    }
   ],
   "source": [
    "len(compact_mpg), len(average_mpg) # More than 30 observations"
   ]
  },
  {
   "cell_type": "code",
   "execution_count": 50,
   "id": "c42956d1",
   "metadata": {},
   "outputs": [],
   "source": [
    "t, p = stats.ttest_1samp(compact_mpg,average_mpg.mean())"
   ]
  },
  {
   "cell_type": "code",
   "execution_count": 55,
   "id": "b92a1ed1",
   "metadata": {},
   "outputs": [
    {
     "name": "stdout",
     "output_type": "stream",
     "text": [
      "We reject the null hypothesis: p = 4.1985637943171336e-10 and t = 7.896888573132535\n"
     ]
    }
   ],
   "source": [
    "if p/2 < alpha and t > 0:\n",
    "    print(f'We reject the null hypothesis: p = {p} and t = {t}')\n",
    "else:\n",
    "    print(f'We fail to reject the null hypothesis: p = {p} and t = {t}')"
   ]
  },
  {
   "cell_type": "markdown",
   "id": "6d4d46ed",
   "metadata": {},
   "source": [
    "### Do manual cars get better gas mileage than automatic cars?"
   ]
  },
  {
   "cell_type": "markdown",
   "id": "a39666f5",
   "metadata": {},
   "source": [
    "ho: The mean gas mileage for manual cars <= automatic cars  \n",
    "ha: The mean gas mileage for manual cars > automatic cars  "
   ]
  },
  {
   "cell_type": "code",
   "execution_count": 61,
   "id": "bf1b986b",
   "metadata": {},
   "outputs": [
    {
     "data": {
      "text/html": [
       "<div>\n",
       "<style scoped>\n",
       "    .dataframe tbody tr th:only-of-type {\n",
       "        vertical-align: middle;\n",
       "    }\n",
       "\n",
       "    .dataframe tbody tr th {\n",
       "        vertical-align: top;\n",
       "    }\n",
       "\n",
       "    .dataframe thead th {\n",
       "        text-align: right;\n",
       "    }\n",
       "</style>\n",
       "<table border=\"1\" class=\"dataframe\">\n",
       "  <thead>\n",
       "    <tr style=\"text-align: right;\">\n",
       "      <th></th>\n",
       "      <th>manufacturer</th>\n",
       "      <th>model</th>\n",
       "      <th>displ</th>\n",
       "      <th>year</th>\n",
       "      <th>cyl</th>\n",
       "      <th>trans</th>\n",
       "      <th>drv</th>\n",
       "      <th>cty</th>\n",
       "      <th>hwy</th>\n",
       "      <th>fl</th>\n",
       "      <th>class</th>\n",
       "      <th>combined_mpg</th>\n",
       "    </tr>\n",
       "  </thead>\n",
       "  <tbody>\n",
       "    <tr>\n",
       "      <th>1</th>\n",
       "      <td>audi</td>\n",
       "      <td>a4</td>\n",
       "      <td>1.8</td>\n",
       "      <td>1999</td>\n",
       "      <td>4</td>\n",
       "      <td>auto(l5)</td>\n",
       "      <td>f</td>\n",
       "      <td>18</td>\n",
       "      <td>29</td>\n",
       "      <td>p</td>\n",
       "      <td>compact</td>\n",
       "      <td>23.5</td>\n",
       "    </tr>\n",
       "    <tr>\n",
       "      <th>2</th>\n",
       "      <td>audi</td>\n",
       "      <td>a4</td>\n",
       "      <td>1.8</td>\n",
       "      <td>1999</td>\n",
       "      <td>4</td>\n",
       "      <td>manual(m5)</td>\n",
       "      <td>f</td>\n",
       "      <td>21</td>\n",
       "      <td>29</td>\n",
       "      <td>p</td>\n",
       "      <td>compact</td>\n",
       "      <td>25.0</td>\n",
       "    </tr>\n",
       "    <tr>\n",
       "      <th>3</th>\n",
       "      <td>audi</td>\n",
       "      <td>a4</td>\n",
       "      <td>2.0</td>\n",
       "      <td>2008</td>\n",
       "      <td>4</td>\n",
       "      <td>manual(m6)</td>\n",
       "      <td>f</td>\n",
       "      <td>20</td>\n",
       "      <td>31</td>\n",
       "      <td>p</td>\n",
       "      <td>compact</td>\n",
       "      <td>25.5</td>\n",
       "    </tr>\n",
       "    <tr>\n",
       "      <th>4</th>\n",
       "      <td>audi</td>\n",
       "      <td>a4</td>\n",
       "      <td>2.0</td>\n",
       "      <td>2008</td>\n",
       "      <td>4</td>\n",
       "      <td>auto(av)</td>\n",
       "      <td>f</td>\n",
       "      <td>21</td>\n",
       "      <td>30</td>\n",
       "      <td>p</td>\n",
       "      <td>compact</td>\n",
       "      <td>25.5</td>\n",
       "    </tr>\n",
       "    <tr>\n",
       "      <th>5</th>\n",
       "      <td>audi</td>\n",
       "      <td>a4</td>\n",
       "      <td>2.8</td>\n",
       "      <td>1999</td>\n",
       "      <td>6</td>\n",
       "      <td>auto(l5)</td>\n",
       "      <td>f</td>\n",
       "      <td>16</td>\n",
       "      <td>26</td>\n",
       "      <td>p</td>\n",
       "      <td>compact</td>\n",
       "      <td>21.0</td>\n",
       "    </tr>\n",
       "  </tbody>\n",
       "</table>\n",
       "</div>"
      ],
      "text/plain": [
       "  manufacturer model  displ  year  cyl       trans drv  cty  hwy fl    class  \\\n",
       "1         audi    a4    1.8  1999    4    auto(l5)   f   18   29  p  compact   \n",
       "2         audi    a4    1.8  1999    4  manual(m5)   f   21   29  p  compact   \n",
       "3         audi    a4    2.0  2008    4  manual(m6)   f   20   31  p  compact   \n",
       "4         audi    a4    2.0  2008    4    auto(av)   f   21   30  p  compact   \n",
       "5         audi    a4    2.8  1999    6    auto(l5)   f   16   26  p  compact   \n",
       "\n",
       "   combined_mpg  \n",
       "1          23.5  \n",
       "2          25.0  \n",
       "3          25.5  \n",
       "4          25.5  \n",
       "5          21.0  "
      ]
     },
     "execution_count": 61,
     "metadata": {},
     "output_type": "execute_result"
    }
   ],
   "source": [
    "mpg.head()"
   ]
  },
  {
   "cell_type": "code",
   "execution_count": 66,
   "id": "d4bd28b2",
   "metadata": {},
   "outputs": [],
   "source": [
    "auto_mpg = mpg[mpg.trans.str.startswith('a')].combined_mpg\n",
    "man_mpg = mpg[mpg.trans.str.startswith('m')].combined_mpg"
   ]
  },
  {
   "cell_type": "code",
   "execution_count": 67,
   "id": "7c823dd8",
   "metadata": {},
   "outputs": [
    {
     "data": {
      "text/plain": [
       "(157, 77)"
      ]
     },
     "execution_count": 67,
     "metadata": {},
     "output_type": "execute_result"
    }
   ],
   "source": [
    "len(auto_mpg),len(man_mpg) #Both > 30 observations"
   ]
  },
  {
   "cell_type": "code",
   "execution_count": 68,
   "id": "69a3b3b0",
   "metadata": {},
   "outputs": [
    {
     "data": {
      "text/plain": [
       "LeveneResult(statistic=0.20075824847529639, pvalue=0.6545276355131857)"
      ]
     },
     "execution_count": 68,
     "metadata": {},
     "output_type": "execute_result"
    }
   ],
   "source": [
    "stats.levene(auto_mpg,man_mpg) # p > .05 so variance is equal"
   ]
  },
  {
   "cell_type": "code",
   "execution_count": 83,
   "id": "5111067e",
   "metadata": {},
   "outputs": [],
   "source": [
    "t, p = stats.ttest_ind(man_mpg,auto_mpg)"
   ]
  },
  {
   "cell_type": "code",
   "execution_count": 72,
   "id": "5baddf34",
   "metadata": {},
   "outputs": [
    {
     "name": "stdout",
     "output_type": "stream",
     "text": [
      "We reject the Null Hypothesis: p = 7.154374401145683e-06 and t = 4.593437735750014\n"
     ]
    }
   ],
   "source": [
    "if p/2 < alpha and t > 0 :\n",
    "    print(f'We reject the Null Hypothesis: p = {p} and t = {t}')\n",
    "else:\n",
    "    print(f'We fail to reject the Null Hypothesis: p = {p} and t = {t}')"
   ]
  },
  {
   "cell_type": "code",
   "execution_count": 80,
   "id": "99ab5d64",
   "metadata": {},
   "outputs": [
    {
     "data": {
      "text/plain": [
       "(7.154374401145683e-06, 4.593437735750014)"
      ]
     },
     "execution_count": 80,
     "metadata": {},
     "output_type": "execute_result"
    }
   ],
   "source": [
    "p, t"
   ]
  },
  {
   "cell_type": "code",
   "execution_count": 82,
   "id": "ea2e1f7e",
   "metadata": {},
   "outputs": [
    {
     "data": {
      "text/plain": [
       "(3.5771872005728416e-06, 4.593437735750014)"
      ]
     },
     "execution_count": 82,
     "metadata": {},
     "output_type": "execute_result"
    }
   ],
   "source": [
    "p, t"
   ]
  },
  {
   "cell_type": "markdown",
   "id": "008cd924",
   "metadata": {},
   "source": [
    "# Correlation"
   ]
  },
  {
   "cell_type": "markdown",
   "id": "cc80e26d",
   "metadata": {},
   "source": [
    "Answer with the type of stats test you would use (assume normal distribution):  \n",
    "Is there a relationship between the length of your arm and the length of your foot?  \n",
    "Do guys and gals quit their jobs at the same rate?  \n",
    "Does the length of time of the lecture correlate with a students grade?  \n",
    "Use the telco_churn data.  \n",
    "Does tenure correlate with monthly charges?  \n",
    "Total charges?  \n",
    "What happens if you control for phone and internet service?  \n",
    "Use the employees database.  \n",
    "Is there a relationship between how long an employee has been with the company and their salary?  \n",
    "Is there a relationship between how long an employee has been with the company and the number of titles they have had?  \n",
    "Use the sleepstudy data.  \n",
    "Is there a relationship between days and reaction time?  "
   ]
  },
  {
   "cell_type": "markdown",
   "id": "0a437592",
   "metadata": {},
   "source": [
    "1)Is there a relationship between the length of your arm and the length of your foot?  \n",
    "2)Do guys and gals quit their jobs at the same rate?  \n",
    "3)Does the length of time of the lecture correlate with a students grade?  \n",
    "\n",
    "1) Pearson's correlation  \n",
    "2) Independent ttest  \n",
    "3) Pearson's correlation  "
   ]
  },
  {
   "cell_type": "markdown",
   "id": "6bb1c363",
   "metadata": {},
   "source": [
    "Use the telco_churn data.  \n",
    "Does tenure correlate with monthly charges?  \n",
    "Total charges?  \n",
    "What happens if you control for phone and internet service?  "
   ]
  },
  {
   "cell_type": "code",
   "execution_count": 183,
   "id": "1a6df08c",
   "metadata": {},
   "outputs": [],
   "source": [
    "import env\n",
    "import pandas as pd\n",
    "from scipy import stats"
   ]
  },
  {
   "cell_type": "code",
   "execution_count": 184,
   "id": "60f48e13",
   "metadata": {},
   "outputs": [],
   "source": [
    "import env\n",
    "import pandas as pd\n",
    "db_url = f'mysql+pymysql://{env.user}:{env.password}@{env.host}/telco_churn'\n",
    "df = pd.read_sql('SELECT * FROM customers', db_url)  "
   ]
  },
  {
   "cell_type": "code",
   "execution_count": 185,
   "id": "983d5e86",
   "metadata": {},
   "outputs": [
    {
     "data": {
      "text/html": [
       "<div>\n",
       "<style scoped>\n",
       "    .dataframe tbody tr th:only-of-type {\n",
       "        vertical-align: middle;\n",
       "    }\n",
       "\n",
       "    .dataframe tbody tr th {\n",
       "        vertical-align: top;\n",
       "    }\n",
       "\n",
       "    .dataframe thead th {\n",
       "        text-align: right;\n",
       "    }\n",
       "</style>\n",
       "<table border=\"1\" class=\"dataframe\">\n",
       "  <thead>\n",
       "    <tr style=\"text-align: right;\">\n",
       "      <th></th>\n",
       "      <th>customer_id</th>\n",
       "      <th>gender</th>\n",
       "      <th>senior_citizen</th>\n",
       "      <th>partner</th>\n",
       "      <th>dependents</th>\n",
       "      <th>tenure</th>\n",
       "      <th>phone_service</th>\n",
       "      <th>multiple_lines</th>\n",
       "      <th>internet_service_type_id</th>\n",
       "      <th>online_security</th>\n",
       "      <th>...</th>\n",
       "      <th>device_protection</th>\n",
       "      <th>tech_support</th>\n",
       "      <th>streaming_tv</th>\n",
       "      <th>streaming_movies</th>\n",
       "      <th>contract_type_id</th>\n",
       "      <th>paperless_billing</th>\n",
       "      <th>payment_type_id</th>\n",
       "      <th>monthly_charges</th>\n",
       "      <th>total_charges</th>\n",
       "      <th>churn</th>\n",
       "    </tr>\n",
       "  </thead>\n",
       "  <tbody>\n",
       "    <tr>\n",
       "      <th>0</th>\n",
       "      <td>0002-ORFBO</td>\n",
       "      <td>Female</td>\n",
       "      <td>0</td>\n",
       "      <td>Yes</td>\n",
       "      <td>Yes</td>\n",
       "      <td>9</td>\n",
       "      <td>Yes</td>\n",
       "      <td>No</td>\n",
       "      <td>1</td>\n",
       "      <td>No</td>\n",
       "      <td>...</td>\n",
       "      <td>No</td>\n",
       "      <td>Yes</td>\n",
       "      <td>Yes</td>\n",
       "      <td>No</td>\n",
       "      <td>2</td>\n",
       "      <td>Yes</td>\n",
       "      <td>2</td>\n",
       "      <td>65.6</td>\n",
       "      <td>593.3</td>\n",
       "      <td>No</td>\n",
       "    </tr>\n",
       "    <tr>\n",
       "      <th>1</th>\n",
       "      <td>0003-MKNFE</td>\n",
       "      <td>Male</td>\n",
       "      <td>0</td>\n",
       "      <td>No</td>\n",
       "      <td>No</td>\n",
       "      <td>9</td>\n",
       "      <td>Yes</td>\n",
       "      <td>Yes</td>\n",
       "      <td>1</td>\n",
       "      <td>No</td>\n",
       "      <td>...</td>\n",
       "      <td>No</td>\n",
       "      <td>No</td>\n",
       "      <td>No</td>\n",
       "      <td>Yes</td>\n",
       "      <td>1</td>\n",
       "      <td>No</td>\n",
       "      <td>2</td>\n",
       "      <td>59.9</td>\n",
       "      <td>542.4</td>\n",
       "      <td>No</td>\n",
       "    </tr>\n",
       "    <tr>\n",
       "      <th>2</th>\n",
       "      <td>0004-TLHLJ</td>\n",
       "      <td>Male</td>\n",
       "      <td>0</td>\n",
       "      <td>No</td>\n",
       "      <td>No</td>\n",
       "      <td>4</td>\n",
       "      <td>Yes</td>\n",
       "      <td>No</td>\n",
       "      <td>2</td>\n",
       "      <td>No</td>\n",
       "      <td>...</td>\n",
       "      <td>Yes</td>\n",
       "      <td>No</td>\n",
       "      <td>No</td>\n",
       "      <td>No</td>\n",
       "      <td>1</td>\n",
       "      <td>Yes</td>\n",
       "      <td>1</td>\n",
       "      <td>73.9</td>\n",
       "      <td>280.85</td>\n",
       "      <td>Yes</td>\n",
       "    </tr>\n",
       "    <tr>\n",
       "      <th>3</th>\n",
       "      <td>0011-IGKFF</td>\n",
       "      <td>Male</td>\n",
       "      <td>1</td>\n",
       "      <td>Yes</td>\n",
       "      <td>No</td>\n",
       "      <td>13</td>\n",
       "      <td>Yes</td>\n",
       "      <td>No</td>\n",
       "      <td>2</td>\n",
       "      <td>No</td>\n",
       "      <td>...</td>\n",
       "      <td>Yes</td>\n",
       "      <td>No</td>\n",
       "      <td>Yes</td>\n",
       "      <td>Yes</td>\n",
       "      <td>1</td>\n",
       "      <td>Yes</td>\n",
       "      <td>1</td>\n",
       "      <td>98.0</td>\n",
       "      <td>1237.85</td>\n",
       "      <td>Yes</td>\n",
       "    </tr>\n",
       "    <tr>\n",
       "      <th>4</th>\n",
       "      <td>0013-EXCHZ</td>\n",
       "      <td>Female</td>\n",
       "      <td>1</td>\n",
       "      <td>Yes</td>\n",
       "      <td>No</td>\n",
       "      <td>3</td>\n",
       "      <td>Yes</td>\n",
       "      <td>No</td>\n",
       "      <td>2</td>\n",
       "      <td>No</td>\n",
       "      <td>...</td>\n",
       "      <td>No</td>\n",
       "      <td>Yes</td>\n",
       "      <td>Yes</td>\n",
       "      <td>No</td>\n",
       "      <td>1</td>\n",
       "      <td>Yes</td>\n",
       "      <td>2</td>\n",
       "      <td>83.9</td>\n",
       "      <td>267.4</td>\n",
       "      <td>Yes</td>\n",
       "    </tr>\n",
       "  </tbody>\n",
       "</table>\n",
       "<p>5 rows × 21 columns</p>\n",
       "</div>"
      ],
      "text/plain": [
       "  customer_id  gender  senior_citizen partner dependents  tenure  \\\n",
       "0  0002-ORFBO  Female               0     Yes        Yes       9   \n",
       "1  0003-MKNFE    Male               0      No         No       9   \n",
       "2  0004-TLHLJ    Male               0      No         No       4   \n",
       "3  0011-IGKFF    Male               1     Yes         No      13   \n",
       "4  0013-EXCHZ  Female               1     Yes         No       3   \n",
       "\n",
       "  phone_service multiple_lines  internet_service_type_id online_security  ...  \\\n",
       "0           Yes             No                         1              No  ...   \n",
       "1           Yes            Yes                         1              No  ...   \n",
       "2           Yes             No                         2              No  ...   \n",
       "3           Yes             No                         2              No  ...   \n",
       "4           Yes             No                         2              No  ...   \n",
       "\n",
       "  device_protection tech_support streaming_tv streaming_movies  \\\n",
       "0                No          Yes          Yes               No   \n",
       "1                No           No           No              Yes   \n",
       "2               Yes           No           No               No   \n",
       "3               Yes           No          Yes              Yes   \n",
       "4                No          Yes          Yes               No   \n",
       "\n",
       "  contract_type_id  paperless_billing payment_type_id  monthly_charges  \\\n",
       "0                2                Yes               2             65.6   \n",
       "1                1                 No               2             59.9   \n",
       "2                1                Yes               1             73.9   \n",
       "3                1                Yes               1             98.0   \n",
       "4                1                Yes               2             83.9   \n",
       "\n",
       "   total_charges churn  \n",
       "0          593.3    No  \n",
       "1          542.4    No  \n",
       "2         280.85   Yes  \n",
       "3        1237.85   Yes  \n",
       "4          267.4   Yes  \n",
       "\n",
       "[5 rows x 21 columns]"
      ]
     },
     "execution_count": 185,
     "metadata": {},
     "output_type": "execute_result"
    }
   ],
   "source": [
    "df.head()"
   ]
  },
  {
   "cell_type": "code",
   "execution_count": 186,
   "id": "f91ae0bc",
   "metadata": {},
   "outputs": [
    {
     "data": {
      "text/plain": [
       "<AxesSubplot:>"
      ]
     },
     "execution_count": 186,
     "metadata": {},
     "output_type": "execute_result"
    },
    {
     "data": {
      "image/png": "[encoded data removed]",
      "text/plain": [
       "<Figure size 432x288 with 1 Axes>"
      ]
     },
     "metadata": {
      "needs_background": "light"
     },
     "output_type": "display_data"
    }
   ],
   "source": [
    "tenure.hist()\n",
    "monthly_charges.hist()"
   ]
  },
  {
   "cell_type": "code",
   "execution_count": 187,
   "id": "d3072e16",
   "metadata": {},
   "outputs": [
    {
     "name": "stdout",
     "output_type": "stream",
     "text": [
      "We observe an r value of 0.28\n"
     ]
    }
   ],
   "source": [
    "\n",
    "r, p = stats.spearmanr(tenure,monthly_charges)\n",
    "print(f\"We observe an r value of {round(r,2)}\")"
   ]
  },
  {
   "cell_type": "code",
   "execution_count": 188,
   "id": "4dfad5aa",
   "metadata": {},
   "outputs": [
    {
     "data": {
      "text/plain": [
       "0        593.30\n",
       "1        542.40\n",
       "2        280.85\n",
       "3       1237.85\n",
       "4        267.40\n",
       "         ...   \n",
       "7038     742.90\n",
       "7039    1873.70\n",
       "7040      92.75\n",
       "7041    4627.65\n",
       "7042    3707.60\n",
       "Name: total_charges, Length: 7032, dtype: float64"
      ]
     },
     "execution_count": 188,
     "metadata": {},
     "output_type": "execute_result"
    }
   ],
   "source": [
    "total_charges"
   ]
  },
  {
   "cell_type": "code",
   "execution_count": 189,
   "id": "f4a1e5a7",
   "metadata": {},
   "outputs": [],
   "source": [
    "#Remove spaces in strings and convert to float\n",
    "df['total_charges'] = pd.to_numeric(df['total_charges'].str.replace(' ',''))\n",
    "df = df.dropna()"
   ]
  },
  {
   "cell_type": "code",
   "execution_count": 194,
   "id": "196f6a73",
   "metadata": {},
   "outputs": [
    {
     "name": "stdout",
     "output_type": "stream",
     "text": [
      "We observe significant results with an r value of 0.83 between tenure and total charges\n"
     ]
    }
   ],
   "source": [
    "r, p = stats.pearsonr(df['tenure'],df['total_charges'])\n",
    "if p<.05:\n",
    "    print(f\"We observe significant results with an r value of {round(r,2)} between tenure and total charges\")\n",
    "else:\n",
    "    print('No statistical significance')"
   ]
  },
  {
   "cell_type": "markdown",
   "id": "f778adc5",
   "metadata": {},
   "source": [
    "What happens if you control for phone and internet service? 'phone_service'-'internet_service_type_id'"
   ]
  },
  {
   "cell_type": "markdown",
   "id": "e0e7daa8",
   "metadata": {},
   "source": [
    "### Controlling for Phone"
   ]
  },
  {
   "cell_type": "code",
   "execution_count": 197,
   "id": "f0fabfd3",
   "metadata": {},
   "outputs": [
    {
     "name": "stdout",
     "output_type": "stream",
     "text": [
      "<class 'pandas.core.frame.DataFrame'>\n",
      "Int64Index: 1736 entries, 0 to 7041\n",
      "Data columns (total 2 columns):\n",
      " #   Column           Non-Null Count  Dtype  \n",
      "---  ------           --------------  -----  \n",
      " 0   tenure           1736 non-null   int64  \n",
      " 1   monthly_charges  1736 non-null   float64\n",
      "dtypes: float64(1), int64(1)\n",
      "memory usage: 40.7 KB\n"
     ]
    }
   ],
   "source": [
    "phone_df = df[(df['phone_service']=='Yes')&(df['internet_service_type_id']==1)][['tenure','monthly_charges']]\n",
    "phone_df.info()"
   ]
  },
  {
   "cell_type": "code",
   "execution_count": 198,
   "id": "f8ccbac2",
   "metadata": {},
   "outputs": [
    {
     "data": {
      "image/png": "[encoded data removed]",
      "text/plain": [
       "<Figure size 432x288 with 1 Axes>"
      ]
     },
     "metadata": {
      "needs_background": "light"
     },
     "output_type": "display_data"
    },
    {
     "data": {
      "text/plain": [
       "<AxesSubplot:>"
      ]
     },
     "execution_count": 198,
     "metadata": {},
     "output_type": "execute_result"
    },
    {
     "data": {
      "image/png": "[encoded data removed]",
      "text/plain": [
       "<Figure size 432x288 with 1 Axes>"
      ]
     },
     "metadata": {
      "needs_background": "light"
     },
     "output_type": "display_data"
    }
   ],
   "source": [
    "phone_df.tenure.hist()\n",
    "plt.show()\n",
    "phone_df.monthly_charges.hist()"
   ]
  },
  {
   "cell_type": "code",
   "execution_count": 201,
   "id": "8ab64c25",
   "metadata": {},
   "outputs": [
    {
     "name": "stdout",
     "output_type": "stream",
     "text": [
      "Statistically Significant: we observe an r value of 0.67 between tenure and total charges controlling for phone\n"
     ]
    }
   ],
   "source": [
    "r, p = stats.spearmanr(phone_df.tenure,phone_df.monthly_charges)\n",
    "if p<.05:\n",
    "    print(f\"Statistically Significant: we observe an r value of {round(r,2)} between tenure and total charges controlling for phone\")"
   ]
  },
  {
   "cell_type": "markdown",
   "id": "f41848ac",
   "metadata": {},
   "source": [
    "### Takeaways\n",
    "\n",
    "There is a moderate-stronge correlation between tenure and monthly charges for customers who have only phone service."
   ]
  },
  {
   "cell_type": "code",
   "execution_count": 143,
   "id": "829f782a",
   "metadata": {},
   "outputs": [
    {
     "name": "stdout",
     "output_type": "stream",
     "text": [
      "We observe an r value of 0.94 between tenure and total charges controlling for internet\n"
     ]
    }
   ],
   "source": [
    "r, p = stats.pearsonr(tenure_with_internet,tot_charges_with_internet)\n",
    "print(f\"We observe an r value of {round(r,2)} between tenure and total charges controlling for internet\")"
   ]
  },
  {
   "cell_type": "markdown",
   "id": "2aedf885",
   "metadata": {},
   "source": [
    "### Use the employees database.\n",
    "Is there a relationship between how long an employee has been with the company and their salary?   \n",
    "Is there a relationship between how long an employee has been with the company and the number of titles they have had?  "
   ]
  },
  {
   "cell_type": "code",
   "execution_count": 145,
   "id": "dcff1edc",
   "metadata": {},
   "outputs": [],
   "source": [
    "db_url = f'mysql+pymysql://{env.user}:{env.password}@{env.host}/employees'\n",
    "employees = pd.read_sql('SELECT * FROM employees JOIN salaries USING (emp_no)', db_url)  "
   ]
  },
  {
   "cell_type": "code",
   "execution_count": 151,
   "id": "bb998d5f",
   "metadata": {},
   "outputs": [],
   "source": [
    "import datetime\n",
    "date_before = datetime.date(2016, 1, 19)\n",
    "employees = employees[employees['to_date']>date_before]"
   ]
  },
  {
   "cell_type": "markdown",
   "id": "47ac5375",
   "metadata": {},
   "source": [
    "### Is there a relationship between how long an employee has been with the company and their salary?"
   ]
  },
  {
   "cell_type": "markdown",
   "id": "43095202",
   "metadata": {},
   "source": [
    "Ho: there is no linear correlation between employee tenure and salary  \n",
    "Ha: there is a linear correlation between employee tenure and salary"
   ]
  },
  {
   "cell_type": "code",
   "execution_count": 155,
   "id": "806a1a71",
   "metadata": {},
   "outputs": [],
   "source": [
    "employees['time_with_company'] = datetime.date(2022,12,2)-employees['hire_date']"
   ]
  },
  {
   "cell_type": "code",
   "execution_count": 166,
   "id": "7e504c98",
   "metadata": {},
   "outputs": [
    {
     "name": "stderr",
     "output_type": "stream",
     "text": [
      "/var/folders/fz/0282wvb93rn0lm_p0nscw1sm0000gn/T/ipykernel_19060/4101035536.py:1: FutureWarning: casting timedelta64[ns] values to int64 with .astype(...) is deprecated and will raise in a future version. Use .view(...) instead.\n",
      "  employees['time_with_company'] = employees['time_with_company'].astype('int')/10**9/3.154e+7\n"
     ]
    }
   ],
   "source": [
    "employees['time_with_company'] = employees['time_with_company'].astype('int')/10**9/3.154e+7\n"
   ]
  },
  {
   "cell_type": "code",
   "execution_count": 203,
   "id": "399a2426",
   "metadata": {},
   "outputs": [
    {
     "data": {
      "image/png": "[encoded data removed]",
      "text/plain": [
       "<Figure size 432x288 with 1 Axes>"
      ]
     },
     "metadata": {
      "needs_background": "light"
     },
     "output_type": "display_data"
    },
    {
     "data": {
      "text/plain": [
       "<AxesSubplot:>"
      ]
     },
     "execution_count": 203,
     "metadata": {},
     "output_type": "execute_result"
    },
    {
     "data": {
      "image/png": "[encoded data removed]",
      "text/plain": [
       "<Figure size 432x288 with 1 Axes>"
      ]
     },
     "metadata": {
      "needs_background": "light"
     },
     "output_type": "display_data"
    }
   ],
   "source": [
    "employees['time_with_company'].hist()\n",
    "plt.show()\n",
    "employees['salary'].hist()"
   ]
  },
  {
   "cell_type": "markdown",
   "id": "9f884e16",
   "metadata": {},
   "source": [
    "There is a correlation value of .3 between time with company and salary"
   ]
  },
  {
   "cell_type": "code",
   "execution_count": 205,
   "id": "543f09f7",
   "metadata": {},
   "outputs": [
    {
     "name": "stdout",
     "output_type": "stream",
     "text": [
      "Reject the Null hypothesis p = 0.0\n"
     ]
    }
   ],
   "source": [
    "r, p = stats.pearsonr(employees['time_with_company'],employees['salary'])\n",
    "if p<.05:\n",
    "    print(f'Reject the Null hypothesis p = {p}')"
   ]
  },
  {
   "cell_type": "markdown",
   "id": "b82e07c8",
   "metadata": {},
   "source": [
    "### Takeaways\n",
    "Moderate correlation between tenure and salary"
   ]
  },
  {
   "cell_type": "markdown",
   "id": "16e95236",
   "metadata": {},
   "source": [
    "### Is there a relationship between how long an employee has been with the company and the number of titles they have had?"
   ]
  },
  {
   "cell_type": "markdown",
   "id": "680b9116",
   "metadata": {},
   "source": [
    "H0: there is no linear correlation between tenure and number of titles  \n",
    "Ha: there is a linear correlation between tenure and number of titles"
   ]
  },
  {
   "cell_type": "markdown",
   "id": "40442f8d",
   "metadata": {},
   "source": [
    "SELECT emp_no, count(title) t FROM titles group by emp_no;\n",
    "SELECT emp_no, datediff(now(),min(from_date)) AS tenure from titles group by emp_no having max(to_date) = '9999-01-01';"
   ]
  },
  {
   "cell_type": "code",
   "execution_count": 206,
   "id": "3184680a",
   "metadata": {},
   "outputs": [],
   "source": [
    "db_url = f'mysql+pymysql://{env.user}:{env.password}@{env.host}/employees'\n",
    "df = pd.read_sql('select * from employees join titles using (emp_no)', db_url)  "
   ]
  },
  {
   "cell_type": "code",
   "execution_count": 207,
   "id": "22cb76f7",
   "metadata": {},
   "outputs": [
    {
     "data": {
      "text/html": [
       "<div>\n",
       "<style scoped>\n",
       "    .dataframe tbody tr th:only-of-type {\n",
       "        vertical-align: middle;\n",
       "    }\n",
       "\n",
       "    .dataframe tbody tr th {\n",
       "        vertical-align: top;\n",
       "    }\n",
       "\n",
       "    .dataframe thead th {\n",
       "        text-align: right;\n",
       "    }\n",
       "</style>\n",
       "<table border=\"1\" class=\"dataframe\">\n",
       "  <thead>\n",
       "    <tr style=\"text-align: right;\">\n",
       "      <th></th>\n",
       "      <th>emp_no</th>\n",
       "      <th>birth_date</th>\n",
       "      <th>first_name</th>\n",
       "      <th>last_name</th>\n",
       "      <th>gender</th>\n",
       "      <th>hire_date</th>\n",
       "      <th>title</th>\n",
       "      <th>from_date</th>\n",
       "      <th>to_date</th>\n",
       "    </tr>\n",
       "  </thead>\n",
       "  <tbody>\n",
       "    <tr>\n",
       "      <th>0</th>\n",
       "      <td>10001</td>\n",
       "      <td>1953-09-02</td>\n",
       "      <td>Georgi</td>\n",
       "      <td>Facello</td>\n",
       "      <td>M</td>\n",
       "      <td>1986-06-26</td>\n",
       "      <td>Senior Engineer</td>\n",
       "      <td>1986-06-26</td>\n",
       "      <td>9999-01-01</td>\n",
       "    </tr>\n",
       "    <tr>\n",
       "      <th>1</th>\n",
       "      <td>10002</td>\n",
       "      <td>1964-06-02</td>\n",
       "      <td>Bezalel</td>\n",
       "      <td>Simmel</td>\n",
       "      <td>F</td>\n",
       "      <td>1985-11-21</td>\n",
       "      <td>Staff</td>\n",
       "      <td>1996-08-03</td>\n",
       "      <td>9999-01-01</td>\n",
       "    </tr>\n",
       "    <tr>\n",
       "      <th>2</th>\n",
       "      <td>10003</td>\n",
       "      <td>1959-12-03</td>\n",
       "      <td>Parto</td>\n",
       "      <td>Bamford</td>\n",
       "      <td>M</td>\n",
       "      <td>1986-08-28</td>\n",
       "      <td>Senior Engineer</td>\n",
       "      <td>1995-12-03</td>\n",
       "      <td>9999-01-01</td>\n",
       "    </tr>\n",
       "    <tr>\n",
       "      <th>3</th>\n",
       "      <td>10004</td>\n",
       "      <td>1954-05-01</td>\n",
       "      <td>Chirstian</td>\n",
       "      <td>Koblick</td>\n",
       "      <td>M</td>\n",
       "      <td>1986-12-01</td>\n",
       "      <td>Engineer</td>\n",
       "      <td>1986-12-01</td>\n",
       "      <td>1995-12-01</td>\n",
       "    </tr>\n",
       "    <tr>\n",
       "      <th>4</th>\n",
       "      <td>10004</td>\n",
       "      <td>1954-05-01</td>\n",
       "      <td>Chirstian</td>\n",
       "      <td>Koblick</td>\n",
       "      <td>M</td>\n",
       "      <td>1986-12-01</td>\n",
       "      <td>Senior Engineer</td>\n",
       "      <td>1995-12-01</td>\n",
       "      <td>9999-01-01</td>\n",
       "    </tr>\n",
       "  </tbody>\n",
       "</table>\n",
       "</div>"
      ],
      "text/plain": [
       "   emp_no  birth_date first_name last_name gender   hire_date  \\\n",
       "0   10001  1953-09-02     Georgi   Facello      M  1986-06-26   \n",
       "1   10002  1964-06-02    Bezalel    Simmel      F  1985-11-21   \n",
       "2   10003  1959-12-03      Parto   Bamford      M  1986-08-28   \n",
       "3   10004  1954-05-01  Chirstian   Koblick      M  1986-12-01   \n",
       "4   10004  1954-05-01  Chirstian   Koblick      M  1986-12-01   \n",
       "\n",
       "             title   from_date     to_date  \n",
       "0  Senior Engineer  1986-06-26  9999-01-01  \n",
       "1            Staff  1996-08-03  9999-01-01  \n",
       "2  Senior Engineer  1995-12-03  9999-01-01  \n",
       "3         Engineer  1986-12-01  1995-12-01  \n",
       "4  Senior Engineer  1995-12-01  9999-01-01  "
      ]
     },
     "execution_count": 207,
     "metadata": {},
     "output_type": "execute_result"
    }
   ],
   "source": [
    "df.head()"
   ]
  },
  {
   "cell_type": "code",
   "execution_count": 208,
   "id": "31c5f6d0",
   "metadata": {},
   "outputs": [],
   "source": [
    "df['time_with_company'] = datetime.date(2022,12,2)-employees['hire_date']\n"
   ]
  },
  {
   "cell_type": "code",
   "execution_count": 214,
   "id": "c6671deb",
   "metadata": {},
   "outputs": [
    {
     "name": "stderr",
     "output_type": "stream",
     "text": [
      "/var/folders/fz/0282wvb93rn0lm_p0nscw1sm0000gn/T/ipykernel_19060/2047209078.py:2: FutureWarning: casting timedelta64[ns] values to int64 with .astype(...) is deprecated and will raise in a future version. Use .view(...) instead.\n",
      "  df['time_with_company'] = df['time_with_company'].astype('int')/10**9/3.154e+7\n"
     ]
    }
   ],
   "source": [
    "df['time_with_company'] = datetime.date(2022,12,2)-df['from_date']\n",
    "df['time_with_company'] = df['time_with_company'].astype('int')/10**9/3.154e+7"
   ]
  },
  {
   "cell_type": "code",
   "execution_count": 219,
   "id": "e6fe31ba",
   "metadata": {},
   "outputs": [],
   "source": [
    "title_count = df.groupby('emp_no')['title'].count()"
   ]
  },
  {
   "cell_type": "code",
   "execution_count": 220,
   "id": "3c6d849c",
   "metadata": {},
   "outputs": [
    {
     "data": {
      "text/plain": [
       "KruskalResult(statistic=545635.3983128049, pvalue=0.0)"
      ]
     },
     "execution_count": 220,
     "metadata": {},
     "output_type": "execute_result"
    }
   ],
   "source": [
    "stats.kruskal(title_count,df['time_with_company'])"
   ]
  },
  {
   "cell_type": "markdown",
   "id": "4f99709c",
   "metadata": {},
   "source": [
    "### Takeaways\n",
    "We reject the null hypothesis "
   ]
  },
  {
   "cell_type": "code",
   "execution_count": 221,
   "id": "d3fc91f2",
   "metadata": {},
   "outputs": [],
   "source": [
    "sleep = data('sleepstudy')"
   ]
  },
  {
   "cell_type": "markdown",
   "id": "7de03f8e",
   "metadata": {},
   "source": [
    "H0: there is no linear correlation between days and reaction time\n",
    "Ha:there is a linear correlation between days and reaction time"
   ]
  },
  {
   "cell_type": "code",
   "execution_count": 223,
   "id": "6fd53960",
   "metadata": {},
   "outputs": [
    {
     "data": {
      "image/png": "[encoded data removed]",
      "text/plain": [
       "<Figure size 432x288 with 1 Axes>"
      ]
     },
     "metadata": {
      "needs_background": "light"
     },
     "output_type": "display_data"
    },
    {
     "data": {
      "text/plain": [
       "<AxesSubplot:>"
      ]
     },
     "execution_count": 223,
     "metadata": {},
     "output_type": "execute_result"
    },
    {
     "data": {
      "image/png": "[encoded data removed]",
      "text/plain": [
       "<Figure size 432x288 with 1 Axes>"
      ]
     },
     "metadata": {
      "needs_background": "light"
     },
     "output_type": "display_data"
    }
   ],
   "source": [
    "alpha = .05\n",
    "sleep = sleep[['Reaction','Days']]\n",
    "sleep.Reaction.hist()\n",
    "plt.show()\n",
    "sleep.Days.hist()"
   ]
  },
  {
   "cell_type": "code",
   "execution_count": 224,
   "id": "0780b3b9",
   "metadata": {},
   "outputs": [
    {
     "data": {
      "text/plain": [
       "<matplotlib.collections.PathCollection at 0x7fa9081e0040>"
      ]
     },
     "execution_count": 224,
     "metadata": {},
     "output_type": "execute_result"
    },
    {
     "data": {
      "image/png": "[encoded data removed]",
      "text/plain": [
       "<Figure size 432x288 with 1 Axes>"
      ]
     },
     "metadata": {
      "needs_background": "light"
     },
     "output_type": "display_data"
    }
   ],
   "source": [
    "plt.scatter(x=sleep.Days,y=sleep.Reaction)"
   ]
  },
  {
   "cell_type": "markdown",
   "id": "ddbf59f8",
   "metadata": {},
   "source": [
    "Days is uniformly distributted and reaction time is normally distruted"
   ]
  },
  {
   "cell_type": "code",
   "execution_count": 227,
   "id": "602e5431",
   "metadata": {},
   "outputs": [
    {
     "name": "stdout",
     "output_type": "stream",
     "text": [
      "Statistically significant: p = 5.132878057706873e-14, r = 0.5228138502259547\n"
     ]
    }
   ],
   "source": [
    "r, p = stats.spearmanr(sleep.Days,sleep.Reaction)\n",
    "if p<.05:\n",
    "    print(f'Statistically significant: p = {p}, r = {r}')\n",
    "else:\n",
    "    print('Fail to reject')\n",
    "          "
   ]
  },
  {
   "cell_type": "code",
   "execution_count": 228,
   "id": "c7004755",
   "metadata": {},
   "outputs": [
    {
     "ename": "AttributeError",
     "evalue": "module 'scipy.stats' has no attribute 'kr'",
     "output_type": "error",
     "traceback": [
      "\u001b[0;31m---------------------------------------------------------------------------\u001b[0m",
      "\u001b[0;31mAttributeError\u001b[0m                            Traceback (most recent call last)",
      "\u001b[0;32m/var/folders/fz/0282wvb93rn0lm_p0nscw1sm0000gn/T/ipykernel_19060/2087811504.py\u001b[0m in \u001b[0;36m<module>\u001b[0;34m\u001b[0m\n\u001b[0;32m----> 1\u001b[0;31m \u001b[0mstats\u001b[0m\u001b[0;34m.\u001b[0m\u001b[0mkr\u001b[0m\u001b[0;34m\u001b[0m\u001b[0;34m\u001b[0m\u001b[0m\n\u001b[0m",
      "\u001b[0;31mAttributeError\u001b[0m: module 'scipy.stats' has no attribute 'kr'"
     ]
    }
   ],
   "source": [
    "stats.spearmanr"
   ]
  },
  {
   "cell_type": "code",
   "execution_count": null,
   "id": "a5e5f2d6",
   "metadata": {},
   "outputs": [],
   "source": []
  }
 ],
 "metadata": {
  "kernelspec": {
   "display_name": "Python 3 (ipykernel)",
   "language": "python",
   "name": "python3"
  },
  "language_info": {
   "codemirror_mode": {
    "name": "ipython",
    "version": 3
   },
   "file_extension": ".py",
   "mimetype": "text/x-python",
   "name": "python",
   "nbconvert_exporter": "python",
   "pygments_lexer": "ipython3",
   "version": "3.9.7"
  }
 },
 "nbformat": 4,
 "nbformat_minor": 5
}
