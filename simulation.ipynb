{
 "cells": [
  {
   "cell_type": "code",
   "execution_count": 1,
   "id": "4897d47a",
   "metadata": {},
   "outputs": [],
   "source": [
    "import numpy as np\n",
    "import matplotlib.pyplot as plt\n",
    "import pandas as pd\n",
    "import viz"
   ]
  },
  {
   "cell_type": "code",
   "execution_count": 36,
   "id": "4e4b13d5",
   "metadata": {},
   "outputs": [
    {
     "data": {
      "text/plain": [
       "0.1617"
      ]
     },
     "execution_count": 36,
     "metadata": {},
     "output_type": "execute_result"
    }
   ],
   "source": [
    "# How likely is it that you roll doubles when rolling two dice?\n",
    "NROWS = 10000\n",
    "NCOLS = 2\n",
    "\n",
    "rolls = pd.DataFrame(np.random.choice([1,2,3,4,5,6],NROWS*NCOLS).reshape(NROWS,NCOLS))\n",
    "\n",
    "(rolls[0]-rolls[1]==0).sum()/len(rolls)"
   ]
  },
  {
   "cell_type": "code",
   "execution_count": 50,
   "id": "61a30ffc",
   "metadata": {},
   "outputs": [
    {
     "name": "stdout",
     "output_type": "stream",
     "text": [
      "0.2142\n",
      "0.6421\n"
     ]
    }
   ],
   "source": [
    "# If you flip 8 coins, what is the probability of getting exactly 3 heads? \n",
    "# What is the probability of getting more than 3 heads?\n",
    "NROWS = 10000\n",
    "NCOL = 8\n",
    "flip_coins = pd.DataFrame(np.random.choice([0,1],NROWS*NCOL).reshape(NROWS,NCOL))\n",
    "flip_coins.head()\n",
    "\n",
    "#Get exactly 3 heads\n",
    "print((flip_coins.sum(axis=1) == 3).sum()/len(flip_coins))\n",
    "\n",
    "#Get more than 3 heads\n",
    "print((flip_coins.sum(axis=1) > 3).sum()/len(flip_coins))"
   ]
  },
  {
   "cell_type": "markdown",
   "id": "67f93ce3",
   "metadata": {},
   "source": [
    "There are approximitely 3 web development cohorts for every 1 data science cohort at Codeup. Assuming that Codeup randomly selects an alumni to put on a billboard, what are the odds that the two billboards I drive past both have data science students on them?"
   ]
  },
  {
   "cell_type": "code",
   "execution_count": 45,
   "id": "0ae831af",
   "metadata": {},
   "outputs": [
    {
     "data": {
      "text/plain": [
       "0.0644"
      ]
     },
     "execution_count": 45,
     "metadata": {},
     "output_type": "execute_result"
    }
   ],
   "source": [
    "WEB_DEV = .75\n",
    "DS = .25\n",
    "ROWS = 10000\n",
    "COLS = 2\n",
    "billboards = pd.DataFrame(np.random.random((ROWS,COLS)))\n",
    "\n",
    "# Look at both billboards\n",
    "((billboards[0]<DS) & (billboards[1]<DS)).sum()/len(billboards)"
   ]
  },
  {
   "cell_type": "markdown",
   "id": "aa60a988",
   "metadata": {},
   "source": [
    "Codeup students buy, on average, 3 poptart packages with a standard deviation of 1.5 a day from the snack vending machine. If on monday the machine is restocked with 17 poptart packages, how likely is it that I will be able to buy some poptarts on Friday afternoon? (Remember, if you have mean and standard deviation, use the np.random.normal) You'll need to make a judgement call on how to handle some of your values"
   ]
  },
  {
   "cell_type": "code",
   "execution_count": 71,
   "id": "55df76fb",
   "metadata": {},
   "outputs": [
    {
     "data": {
      "text/plain": [
       "0.6174"
      ]
     },
     "execution_count": 71,
     "metadata": {},
     "output_type": "execute_result"
    }
   ],
   "source": [
    "ROWS = 10000\n",
    "COLS = 5\n",
    "data = pd.DataFrame(np.random.normal(3,1.5,(ROWS,COLS)))\n",
    "\n",
    "(data[:].sum(axis=1)<=16).sum()/len(data)"
   ]
  },
  {
   "cell_type": "markdown",
   "id": "d8813515",
   "metadata": {},
   "source": [
    "Compare Heights\n",
    "\n",
    "Men have an average height of 178 cm and standard deviation of 8cm.\n",
    "Women have a mean of 170, sd = 6cm.\n",
    "Since you have means and standard deviations, you can use np.random.normal to generate observations.\n",
    "If a man and woman are chosen at random, what is the likelihood the woman is taller than the man?"
   ]
  },
  {
   "cell_type": "code",
   "execution_count": 100,
   "id": "46844057",
   "metadata": {},
   "outputs": [
    {
     "data": {
      "text/plain": [
       "0.7873"
      ]
     },
     "execution_count": 100,
     "metadata": {},
     "output_type": "execute_result"
    }
   ],
   "source": [
    "ROWS = 10000\n",
    "COLS = 1\n",
    "men = np.random.normal(178,8,ROWS)\n",
    "women = np.random.normal(170,6,ROWS)\n",
    "data = pd.DataFrame({'men':men,'women':women})\n",
    "\n",
    "(data['men']>data['women']).sum()/len(data)"
   ]
  },
  {
   "cell_type": "markdown",
   "id": "03ee9c67",
   "metadata": {},
   "source": [
    "When installing anaconda on a student's computer, there's a 1 in 250 chance that the download is corrupted and the installation fails. What are the odds that after having 50 students download anaconda, no one has an installation issue? 100 students?\n",
    "\n",
    "What is the probability that we observe an installation issue within the first 150 students that download anaconda?\n",
    "\n",
    "How likely is it that 450 students all download anaconda without an issue?"
   ]
  },
  {
   "cell_type": "code",
   "execution_count": 129,
   "id": "c0c50e11",
   "metadata": {},
   "outputs": [
    {
     "data": {
      "text/plain": [
       "0.81882"
      ]
     },
     "execution_count": 129,
     "metadata": {},
     "output_type": "execute_result"
    }
   ],
   "source": [
    "# Odds after 50 students no student has an issue\n",
    "data = pd.DataFrame(np.random.random((100000,50)))\n",
    "1 - (((data[:]<=.004).sum(axis=1)>0).sum())/len(data)\n"
   ]
  },
  {
   "cell_type": "code",
   "execution_count": 130,
   "id": "0a240b08",
   "metadata": {},
   "outputs": [
    {
     "data": {
      "text/plain": [
       "0.66818"
      ]
     },
     "execution_count": 130,
     "metadata": {},
     "output_type": "execute_result"
    }
   ],
   "source": [
    "# Odds after 100 students no student has an issue\n",
    "data = pd.DataFrame(np.random.random((100000,100)))\n",
    "1 - (((data[:]<=.004).sum(axis=1)>0).sum())/len(data)"
   ]
  },
  {
   "cell_type": "code",
   "execution_count": 133,
   "id": "17f460a7",
   "metadata": {},
   "outputs": [
    {
     "data": {
      "text/plain": [
       "0.45103"
      ]
     },
     "execution_count": 133,
     "metadata": {},
     "output_type": "execute_result"
    }
   ],
   "source": [
    "# Odds to see a problem within first 150\n",
    "data = pd.DataFrame(np.random.random((100000,150)))\n",
    "(((data[:]<=.004).sum(axis=1)>0).sum())/len(data)"
   ]
  },
  {
   "cell_type": "code",
   "execution_count": 134,
   "id": "cd598b8b",
   "metadata": {},
   "outputs": [
    {
     "data": {
      "text/plain": [
       "0.83325"
      ]
     },
     "execution_count": 134,
     "metadata": {},
     "output_type": "execute_result"
    }
   ],
   "source": [
    "# Odds to see a problem within first 150\n",
    "data = pd.DataFrame(np.random.random((100000,450)))\n",
    "(((data[:]<=.004).sum(axis=1)>0).sum())/len(data)"
   ]
  },
  {
   "cell_type": "markdown",
   "id": "0c96da84",
   "metadata": {},
   "source": [
    "There's a 70% chance on any given day that there will be at least one food truck at Travis Park. However, you haven't seen a food truck there in 3 days. How unlikely is this?\n",
    "\n",
    "How likely is it that a food truck will show up sometime this week?"
   ]
  },
  {
   "cell_type": "code",
   "execution_count": 137,
   "id": "71a40cc8",
   "metadata": {},
   "outputs": [
    {
     "data": {
      "text/plain": [
       "0.02695000000000003"
      ]
     },
     "execution_count": 137,
     "metadata": {},
     "output_type": "execute_result"
    }
   ],
   "source": [
    "# Likelihood of no food truck for 3 days in a row\n",
    "data = pd.DataFrame(np.random.random((100000,3)))\n",
    "1 - (((data[:]<=.7).sum(axis=1)>0).sum())/len(data)"
   ]
  },
  {
   "cell_type": "code",
   "execution_count": 138,
   "id": "b1166c57",
   "metadata": {},
   "outputs": [
    {
     "data": {
      "text/plain": [
       "0.99181"
      ]
     },
     "execution_count": 138,
     "metadata": {},
     "output_type": "execute_result"
    }
   ],
   "source": [
    "# Likelihood that a food truck will come in the next 4 days\n",
    "data = pd.DataFrame(np.random.random((100000,4)))\n",
    "(((data[:]<=.7).sum(axis=1)>0).sum())/len(data)"
   ]
  },
  {
   "cell_type": "markdown",
   "id": "68984441",
   "metadata": {},
   "source": [
    "If 23 people are in the same room, what are the odds that two of them share a birthday? What if it's 20 people? 40?"
   ]
  },
  {
   "cell_type": "code",
   "execution_count": 165,
   "id": "68b8cd76",
   "metadata": {},
   "outputs": [
    {
     "data": {
      "text/plain": [
       "0.5052"
      ]
     },
     "execution_count": 165,
     "metadata": {},
     "output_type": "execute_result"
    }
   ],
   "source": [
    "# 23 People in the room\n",
    "PEOPLE = 23\n",
    "SIM = 10000\n",
    "data = pd.DataFrame(np.random.randint(1,366,PEOPLE*SIM).reshape(SIM,PEOPLE))\n",
    "data.apply(lambda row: len(set(row)) != len(row), axis = 1).sum()/len(data)\n"
   ]
  },
  {
   "cell_type": "code",
   "execution_count": 166,
   "id": "7f1b1f21",
   "metadata": {},
   "outputs": [
    {
     "data": {
      "text/plain": [
       "0.417"
      ]
     },
     "execution_count": 166,
     "metadata": {},
     "output_type": "execute_result"
    }
   ],
   "source": [
    "# 20 People in the room\n",
    "PEOPLE = 20\n",
    "SIM = 10000\n",
    "data = pd.DataFrame(np.random.randint(1,366,PEOPLE*SIM).reshape(SIM,PEOPLE))\n",
    "data.apply(lambda row: len(set(row)) != len(row), axis = 1).sum()/len(data)"
   ]
  },
  {
   "cell_type": "code",
   "execution_count": 169,
   "id": "be557a9b",
   "metadata": {},
   "outputs": [
    {
     "data": {
      "text/plain": [
       "0.8962"
      ]
     },
     "execution_count": 169,
     "metadata": {},
     "output_type": "execute_result"
    }
   ],
   "source": [
    "# 40 People in the room\n",
    "PEOPLE = 40\n",
    "SIM = 10000\n",
    "data = pd.DataFrame(np.random.randint(1,366,PEOPLE*SIM).reshape(SIM,PEOPLE))\n",
    "data.apply(lambda row: len(set(row)) != len(row), axis = 1).sum()/len(data)"
   ]
  },
  {
   "cell_type": "code",
   "execution_count": null,
   "id": "70526bc7",
   "metadata": {},
   "outputs": [],
   "source": []
  }
 ],
 "metadata": {
  "kernelspec": {
   "display_name": "Python 3 (ipykernel)",
   "language": "python",
   "name": "python3"
  },
  "language_info": {
   "codemirror_mode": {
    "name": "ipython",
    "version": 3
   },
   "file_extension": ".py",
   "mimetype": "text/x-python",
   "name": "python",
   "nbconvert_exporter": "python",
   "pygments_lexer": "ipython3",
   "version": "3.9.7"
  }
 },
 "nbformat": 4,
 "nbformat_minor": 5
}
