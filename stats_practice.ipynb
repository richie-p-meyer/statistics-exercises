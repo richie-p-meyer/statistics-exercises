{
 "cells": [
  {
   "cell_type": "markdown",
   "id": "7b020958",
   "metadata": {},
   "source": [
    "### Histograms "
   ]
  },
  {
   "cell_type": "markdown",
   "id": "9024f9d6",
   "metadata": {},
   "source": [
    "The file ```height-weight.csv``` contains:\n",
    "\n",
    "- Measurements of height in inches\n",
    "- Measurements of weight in pounds\n",
    "- Gender of individual"
   ]
  },
  {
   "cell_type": "code",
   "execution_count": 1,
   "id": "36dcbf21",
   "metadata": {},
   "outputs": [],
   "source": [
    "# import libraries\n",
    "import pandas as pd\n",
    "\n",
    "# read dataframe from csv\n",
    "df = pd.read_csv('height-weight.csv')"
   ]
  },
  {
   "cell_type": "code",
   "execution_count": 2,
   "id": "3af33e49",
   "metadata": {},
   "outputs": [],
   "source": [
    "# Separate data into two frames for male and female\n",
    "\n",
    "dfm = df[df['Gender'] == 'Male']\n",
    "dfw = df[df['Gender'] == 'Female']\n",
    "\n",
    "\n",
    "dfm_height = dfm[['Height']]\n",
    "dfm_weight = dfm[['Weight']]\n",
    "\n",
    "dfw_height = dfw[['Height']]\n",
    "dfw_weight = dfw[['Weight']]\n",
    "\n",
    "\n",
    "df_weight = df[['Weight', 'Gender']]\n",
    "df_height = df[['Height', 'Gender']]\n",
    "\n",
    "\n",
    "# Create a separate data frame for weight and height\n",
    "\n",
    "wf = df [['Weight']]\n",
    "hf = df [['Height']]\n",
    "\n",
    "hfg = df [['Height', 'Gender']]\n",
    "\n"
   ]
  },
  {
   "cell_type": "markdown",
   "id": "b8fb5d47",
   "metadata": {},
   "source": [
    "### Summary statistics "
   ]
  },
  {
   "cell_type": "code",
   "execution_count": 3,
   "id": "800aaf24",
   "metadata": {},
   "outputs": [
    {
     "data": {
      "text/html": [
       "<div>\n",
       "<style scoped>\n",
       "    .dataframe tbody tr th:only-of-type {\n",
       "        vertical-align: middle;\n",
       "    }\n",
       "\n",
       "    .dataframe tbody tr th {\n",
       "        vertical-align: top;\n",
       "    }\n",
       "\n",
       "    .dataframe thead th {\n",
       "        text-align: right;\n",
       "    }\n",
       "</style>\n",
       "<table border=\"1\" class=\"dataframe\">\n",
       "  <thead>\n",
       "    <tr style=\"text-align: right;\">\n",
       "      <th></th>\n",
       "      <th>Height</th>\n",
       "      <th>Weight</th>\n",
       "    </tr>\n",
       "  </thead>\n",
       "  <tbody>\n",
       "    <tr>\n",
       "      <th>count</th>\n",
       "      <td>5000.000000</td>\n",
       "      <td>5000.000000</td>\n",
       "    </tr>\n",
       "    <tr>\n",
       "      <th>mean</th>\n",
       "      <td>69.026346</td>\n",
       "      <td>187.020621</td>\n",
       "    </tr>\n",
       "    <tr>\n",
       "      <th>std</th>\n",
       "      <td>2.863362</td>\n",
       "      <td>19.781155</td>\n",
       "    </tr>\n",
       "    <tr>\n",
       "      <th>min</th>\n",
       "      <td>58.406905</td>\n",
       "      <td>112.902939</td>\n",
       "    </tr>\n",
       "    <tr>\n",
       "      <th>25%</th>\n",
       "      <td>67.174679</td>\n",
       "      <td>173.887767</td>\n",
       "    </tr>\n",
       "    <tr>\n",
       "      <th>50%</th>\n",
       "      <td>69.027709</td>\n",
       "      <td>187.033546</td>\n",
       "    </tr>\n",
       "    <tr>\n",
       "      <th>75%</th>\n",
       "      <td>70.988744</td>\n",
       "      <td>200.357802</td>\n",
       "    </tr>\n",
       "    <tr>\n",
       "      <th>max</th>\n",
       "      <td>78.998742</td>\n",
       "      <td>269.989699</td>\n",
       "    </tr>\n",
       "  </tbody>\n",
       "</table>\n",
       "</div>"
      ],
      "text/plain": [
       "            Height       Weight\n",
       "count  5000.000000  5000.000000\n",
       "mean     69.026346   187.020621\n",
       "std       2.863362    19.781155\n",
       "min      58.406905   112.902939\n",
       "25%      67.174679   173.887767\n",
       "50%      69.027709   187.033546\n",
       "75%      70.988744   200.357802\n",
       "max      78.998742   269.989699"
      ]
     },
     "execution_count": 3,
     "metadata": {},
     "output_type": "execute_result"
    }
   ],
   "source": [
    "# Statistics for males\n",
    "dfm.describe()"
   ]
  },
  {
   "cell_type": "code",
   "execution_count": 4,
   "id": "5b44e171",
   "metadata": {},
   "outputs": [
    {
     "data": {
      "text/html": [
       "<div>\n",
       "<style scoped>\n",
       "    .dataframe tbody tr th:only-of-type {\n",
       "        vertical-align: middle;\n",
       "    }\n",
       "\n",
       "    .dataframe tbody tr th {\n",
       "        vertical-align: top;\n",
       "    }\n",
       "\n",
       "    .dataframe thead th {\n",
       "        text-align: right;\n",
       "    }\n",
       "</style>\n",
       "<table border=\"1\" class=\"dataframe\">\n",
       "  <thead>\n",
       "    <tr style=\"text-align: right;\">\n",
       "      <th></th>\n",
       "      <th>Height</th>\n",
       "      <th>Weight</th>\n",
       "    </tr>\n",
       "  </thead>\n",
       "  <tbody>\n",
       "    <tr>\n",
       "      <th>count</th>\n",
       "      <td>5000.000000</td>\n",
       "      <td>5000.000000</td>\n",
       "    </tr>\n",
       "    <tr>\n",
       "      <th>mean</th>\n",
       "      <td>63.708774</td>\n",
       "      <td>135.860093</td>\n",
       "    </tr>\n",
       "    <tr>\n",
       "      <th>std</th>\n",
       "      <td>2.696284</td>\n",
       "      <td>19.022468</td>\n",
       "    </tr>\n",
       "    <tr>\n",
       "      <th>min</th>\n",
       "      <td>54.263133</td>\n",
       "      <td>64.700127</td>\n",
       "    </tr>\n",
       "    <tr>\n",
       "      <th>25%</th>\n",
       "      <td>61.894441</td>\n",
       "      <td>122.934096</td>\n",
       "    </tr>\n",
       "    <tr>\n",
       "      <th>50%</th>\n",
       "      <td>63.730924</td>\n",
       "      <td>136.117583</td>\n",
       "    </tr>\n",
       "    <tr>\n",
       "      <th>75%</th>\n",
       "      <td>65.563565</td>\n",
       "      <td>148.810926</td>\n",
       "    </tr>\n",
       "    <tr>\n",
       "      <th>max</th>\n",
       "      <td>73.389586</td>\n",
       "      <td>202.237214</td>\n",
       "    </tr>\n",
       "  </tbody>\n",
       "</table>\n",
       "</div>"
      ],
      "text/plain": [
       "            Height       Weight\n",
       "count  5000.000000  5000.000000\n",
       "mean     63.708774   135.860093\n",
       "std       2.696284    19.022468\n",
       "min      54.263133    64.700127\n",
       "25%      61.894441   122.934096\n",
       "50%      63.730924   136.117583\n",
       "75%      65.563565   148.810926\n",
       "max      73.389586   202.237214"
      ]
     },
     "execution_count": 4,
     "metadata": {},
     "output_type": "execute_result"
    }
   ],
   "source": [
    "# Statistics for females\n",
    "dfw.describe()"
   ]
  },
  {
   "cell_type": "markdown",
   "id": "d0b65d10",
   "metadata": {},
   "source": [
    "### Measures of spread\n",
    "\n",
    "The following box plots display:\n",
    "\n",
    "- Weight grouped by gender\n",
    "- Height grouped by gender"
   ]
  },
  {
   "cell_type": "code",
   "execution_count": 5,
   "id": "be04c8b2",
   "metadata": {},
   "outputs": [
    {
     "data": {
      "image/png": "[encoded data removed]",
      "text/plain": [
       "<Figure size 432x288 with 1 Axes>"
      ]
     },
     "metadata": {
      "needs_background": "light"
     },
     "output_type": "display_data"
    }
   ],
   "source": [
    "boxplot = df_weight.boxplot(fontsize = 10, by='Gender')"
   ]
  },
  {
   "cell_type": "code",
   "execution_count": 6,
   "id": "48e8aed9",
   "metadata": {},
   "outputs": [
    {
     "data": {
      "image/png": "[encoded data removed]",
      "text/plain": [
       "<Figure size 432x288 with 1 Axes>"
      ]
     },
     "metadata": {
      "needs_background": "light"
     },
     "output_type": "display_data"
    }
   ],
   "source": [
    "boxplot = df_height.boxplot(fontsize = 10, by='Gender')"
   ]
  },
  {
   "cell_type": "markdown",
   "id": "191a5dd4",
   "metadata": {},
   "source": [
    "### Histograms\n",
    "\n",
    "The following plots each value for weight on a number line and is grouped by gender"
   ]
  },
  {
   "cell_type": "code",
   "execution_count": 7,
   "id": "7d2e3125",
   "metadata": {},
   "outputs": [
    {
     "data": {
      "image/png": "[encoded data removed]",
      "text/plain": [
       "<Figure size 432x288 with 1 Axes>"
      ]
     },
     "metadata": {
      "needs_background": "light"
     },
     "output_type": "display_data"
    }
   ],
   "source": [
    "ax = df.plot.scatter(x = 'Height', y = 0, xlabel = \"Height (inches)\")"
   ]
  },
  {
   "cell_type": "markdown",
   "id": "66a0f80f",
   "metadata": {},
   "source": [
    "## Visualization "
   ]
  },
  {
   "cell_type": "markdown",
   "id": "28c93424",
   "metadata": {},
   "source": [
    "#### Histograms of Data\n",
    "\n",
    "- A histogram shows the number of observations which fall within a certain interval (a bin)\n",
    "- Each histogram has a different number of bins\n"
   ]
  },
  {
   "cell_type": "code",
   "execution_count": 11,
   "id": "0d49add9",
   "metadata": {},
   "outputs": [
    {
     "data": {
      "image/png": "[encoded data removed]",
      "text/plain": [
       "<Figure size 432x288 with 1 Axes>"
      ]
     },
     "metadata": {
      "needs_background": "light"
     },
     "output_type": "display_data"
    }
   ],
   "source": [
    "ax = dfm_height.plot.hist(bins = 2, alpha = 0.5)"
   ]
  },
  {
   "cell_type": "code",
   "execution_count": 12,
   "id": "adf77960",
   "metadata": {},
   "outputs": [
    {
     "data": {
      "image/png": "[encoded data removed]",
      "text/plain": [
       "<Figure size 432x288 with 1 Axes>"
      ]
     },
     "metadata": {
      "needs_background": "light"
     },
     "output_type": "display_data"
    }
   ],
   "source": [
    "ax = dfm_height.plot.hist(bins = 12, alpha = 0.5)"
   ]
  },
  {
   "cell_type": "code",
   "execution_count": 123,
   "id": "e0b5fb42",
   "metadata": {},
   "outputs": [
    {
     "data": {
      "image/png": "[encoded data removed]",
      "text/plain": [
       "<Figure size 432x288 with 1 Axes>"
      ]
     },
     "metadata": {
      "needs_background": "light"
     },
     "output_type": "display_data"
    }
   ],
   "source": [
    "ax = dfw_height.plot.hist(bins = 24, alpha = 0.5)"
   ]
  },
  {
   "cell_type": "markdown",
   "id": "64a6e8d4",
   "metadata": {},
   "source": [
    "### Histogram of Weight Grouped by Gender\n",
    "\n",
    "Blue = Female\n",
    "\n",
    "Orange = Male"
   ]
  },
  {
   "cell_type": "code",
   "execution_count": 102,
   "id": "2b4ca66b",
   "metadata": {},
   "outputs": [
    {
     "data": {
      "text/plain": [
       "Gender\n",
       "Female    AxesSubplot(0.125,0.125;0.775x0.755)\n",
       "Male      AxesSubplot(0.125,0.125;0.775x0.755)\n",
       "Name: Weight, dtype: object"
      ]
     },
     "execution_count": 102,
     "metadata": {},
     "output_type": "execute_result"
    },
    {
     "data": {
      "image/png": "[encoded data removed]",
      "text/plain": [
       "<Figure size 432x288 with 1 Axes>"
      ]
     },
     "metadata": {
      "needs_background": "light"
     },
     "output_type": "display_data"
    }
   ],
   "source": [
    "df_weight.groupby('Gender')['Weight'].hist(bins=20)"
   ]
  },
  {
   "cell_type": "markdown",
   "id": "c7354599",
   "metadata": {},
   "source": [
    "### Histogram of Height Grouped by Gender\n",
    "Blue = Female\n",
    "\n",
    "Orange = Male"
   ]
  },
  {
   "cell_type": "code",
   "execution_count": 114,
   "id": "660da5f8",
   "metadata": {},
   "outputs": [
    {
     "data": {
      "text/plain": [
       "Gender\n",
       "Female    AxesSubplot(0.125,0.125;0.775x0.755)\n",
       "Male      AxesSubplot(0.125,0.125;0.775x0.755)\n",
       "Name: Height, dtype: object"
      ]
     },
     "execution_count": 114,
     "metadata": {},
     "output_type": "execute_result"
    },
    {
     "data": {
      "image/png": "[encoded data removed]",
      "text/plain": [
       "<Figure size 432x288 with 1 Axes>"
      ]
     },
     "metadata": {
      "needs_background": "light"
     },
     "output_type": "display_data"
    }
   ],
   "source": [
    "df_height.groupby('Gender')['Height'].hist(bins=20)"
   ]
  },
  {
   "cell_type": "markdown",
   "id": "8022caf7",
   "metadata": {},
   "source": [
    "#### Questions\n",
    "\n",
    "- How do the distributions of weight compare for females and males?\n",
    "- Based on the shape of the histogram, what height values would you expect to more commonly find in a sample of males?\n",
    "\n"
   ]
  },
  {
   "cell_type": "code",
   "execution_count": null,
   "id": "d6523d1f",
   "metadata": {},
   "outputs": [],
   "source": [
    "<img src=\"~/Downlas\" alt=\"Alternative text\" />"
   ]
  }
 ],
 "metadata": {
  "kernelspec": {
   "display_name": "Python 3 (ipykernel)",
   "language": "python",
   "name": "python3"
  },
  "language_info": {
   "codemirror_mode": {
    "name": "ipython",
    "version": 3
   },
   "file_extension": ".py",
   "mimetype": "text/x-python",
   "name": "python",
   "nbconvert_exporter": "python",
   "pygments_lexer": "ipython3",
   "version": "3.9.7"
  }
 },
 "nbformat": 4,
 "nbformat_minor": 5
}
