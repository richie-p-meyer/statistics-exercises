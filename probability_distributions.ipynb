{
 "cells": [
  {
   "cell_type": "code",
   "execution_count": 8,
   "id": "2c387878",
   "metadata": {},
   "outputs": [],
   "source": [
    "import matplotlib.pyplot as plt\n",
    "import numpy as np\n",
    "from scipy import stats\n",
    "import viz # curriculum viz example code\n",
    "import pandas as pd\n",
    "\n",
    "np.random.seed(123)\n"
   ]
  },
  {
   "cell_type": "markdown",
   "id": "7906bfc3",
   "metadata": {},
   "source": [
    "A bank found that the average number of cars waiting during the noon hour at a drive-up window follows a Poisson distribution with a mean of 2 cars. Make a chart of this distribution and answer these questions concerning the probability of cars waiting at the drive-up window.\n",
    "\n",
    "What is the probability that no cars drive up in the noon hour?\n",
    "What is the probability that 3 or more cars come through the drive through?\n",
    "How likely is it that the drive through gets at least 1 car?"
   ]
  },
  {
   "cell_type": "code",
   "execution_count": 60,
   "id": "bf0cab56",
   "metadata": {},
   "outputs": [
    {
     "data": {
      "text/plain": [
       "<BarContainer object of 10 artists>"
      ]
     },
     "execution_count": 60,
     "metadata": {},
     "output_type": "execute_result"
    },
    {
     "data": {
      "image/png": "[encoded data removed]",
      "text/plain": [
       "<Figure size 432x288 with 1 Axes>"
      ]
     },
     "metadata": {
      "needs_background": "light"
     },
     "output_type": "display_data"
    }
   ],
   "source": [
    "data = pd.Series(stats.poisson(2).rvs(10000))\n",
    "data.value_counts()\n",
    "plt.bar(data.value_counts().index,data.value_counts())"
   ]
  },
  {
   "cell_type": "code",
   "execution_count": 63,
   "id": "39aee8f4",
   "metadata": {},
   "outputs": [
    {
     "data": {
      "text/plain": [
       "0.1353352832366127"
      ]
     },
     "execution_count": 63,
     "metadata": {},
     "output_type": "execute_result"
    }
   ],
   "source": [
    "#Odds that no cars drive up\n",
    "stats.poisson(2).pmf(0)"
   ]
  },
  {
   "cell_type": "code",
   "execution_count": 69,
   "id": "88d9b2d7",
   "metadata": {},
   "outputs": [
    {
     "data": {
      "text/plain": [
       "0.32332358381693654"
      ]
     },
     "execution_count": 69,
     "metadata": {},
     "output_type": "execute_result"
    }
   ],
   "source": [
    "#Odds of 3 or more\n",
    "stats.poisson(2).sf(2)"
   ]
  },
  {
   "cell_type": "code",
   "execution_count": 70,
   "id": "ad449e07",
   "metadata": {},
   "outputs": [
    {
     "data": {
      "text/plain": [
       "0.8646647167633873"
      ]
     },
     "execution_count": 70,
     "metadata": {},
     "output_type": "execute_result"
    }
   ],
   "source": [
    "#Odds of at least 1 car\n",
    "stats.poisson(2).sf(0)"
   ]
  },
  {
   "cell_type": "markdown",
   "id": "012f7516",
   "metadata": {},
   "source": [
    "Grades of State University graduates are normally distributed with a mean of 3.0 and a standard deviation of .3. Calculate the following:\n",
    "\n",
    "What grade point average is required to be in the top 5% of the graduating class?\n",
    "What GPA constitutes the bottom 15% of the class?\n",
    "An eccentric alumnus left scholarship money for students in the third decile from the bottom of their class. Determine the range of the third decile. Would a student with a 2.8 grade point average qualify for this scholarship?\n",
    "If I have a GPA of 3.5, what percentile am I in?"
   ]
  },
  {
   "cell_type": "code",
   "execution_count": 202,
   "id": "861ea5bb",
   "metadata": {},
   "outputs": [],
   "source": [
    "data = stats.norm(3,.3)"
   ]
  },
  {
   "cell_type": "code",
   "execution_count": 79,
   "id": "979d3d0f",
   "metadata": {},
   "outputs": [
    {
     "data": {
      "text/plain": [
       "3.4934560880854417"
      ]
     },
     "execution_count": 79,
     "metadata": {},
     "output_type": "execute_result"
    }
   ],
   "source": [
    "data.ppf(.95)"
   ]
  },
  {
   "cell_type": "code",
   "execution_count": 75,
   "id": "81fd5cfa",
   "metadata": {},
   "outputs": [
    {
     "data": {
      "text/plain": [
       "1.0494515075362604e-21"
      ]
     },
     "execution_count": 75,
     "metadata": {},
     "output_type": "execute_result"
    }
   ],
   "source": [
    "data.cdf(.15)"
   ]
  },
  {
   "cell_type": "code",
   "execution_count": 200,
   "id": "e0b814b0",
   "metadata": {},
   "outputs": [
    {
     "data": {
      "text/plain": [
       "count    1000.000000\n",
       "mean        3.007626\n",
       "std         0.300191\n",
       "min         1.677920\n",
       "20%         2.766762\n",
       "30%         2.852277\n",
       "50%         3.004159\n",
       "max         3.859836\n",
       "dtype: float64"
      ]
     },
     "execution_count": 200,
     "metadata": {},
     "output_type": "execute_result"
    }
   ],
   "source": [
    "# A student with 2.8 gpa would qualify for the third decile scholarship\n",
    "pd.Series(data.rvs(1000)).describe([.2,.3])"
   ]
  },
  {
   "cell_type": "code",
   "execution_count": 197,
   "id": "86b4bdd4",
   "metadata": {},
   "outputs": [
    {
     "data": {
      "text/plain": [
       "array([2.74751363, 2.84267985])"
      ]
     },
     "execution_count": 197,
     "metadata": {},
     "output_type": "execute_result"
    }
   ],
   "source": [
    "data.ppf([.2,.3])"
   ]
  },
  {
   "cell_type": "code",
   "execution_count": 204,
   "id": "77c6a02a",
   "metadata": {},
   "outputs": [
    {
     "data": {
      "text/plain": [
       "0.9522096477271853"
      ]
     },
     "execution_count": 204,
     "metadata": {},
     "output_type": "execute_result"
    }
   ],
   "source": [
    "# 3.5 is in the 95.3 percentile\n",
    "1 - data.sf(3.5)"
   ]
  },
  {
   "cell_type": "markdown",
   "id": "70f6c476",
   "metadata": {},
   "source": [
    "A marketing website has an average click-through rate of 2%. One day they observe 4326 visitors and 97 click-throughs. How likely is it that this many people or more click through?"
   ]
  },
  {
   "cell_type": "code",
   "execution_count": 207,
   "id": "fe7a3665",
   "metadata": {},
   "outputs": [
    {
     "data": {
      "text/plain": [
       "0.141626399458289"
      ]
     },
     "execution_count": 207,
     "metadata": {},
     "output_type": "execute_result"
    }
   ],
   "source": [
    "# 4326*.02 = 86.5 which is mu\n",
    "stats.poisson(86.5).sf(96)"
   ]
  },
  {
   "cell_type": "markdown",
   "id": "4196362c",
   "metadata": {},
   "source": [
    "You are working on some statistics homework consisting of 100 questions where all of the answers are a probability rounded to the hundreths place. Looking to save time, you put down random probabilities as the answer to each question.\n",
    "\n",
    "What is the probability that at least one of your first 60 answers is correct?"
   ]
  },
  {
   "cell_type": "code",
   "execution_count": 208,
   "id": "f032ec3f",
   "metadata": {},
   "outputs": [
    {
     "data": {
      "text/plain": [
       "0.45284335760923855"
      ]
     },
     "execution_count": 208,
     "metadata": {},
     "output_type": "execute_result"
    }
   ],
   "source": [
    "stats.binom(60,.01).sf(0)"
   ]
  },
  {
   "cell_type": "markdown",
   "id": "8fe03921",
   "metadata": {},
   "source": [
    "The codeup staff tends to get upset when the student break area is not cleaned up. Suppose that there's a 3% chance that any one student cleans the break area when they visit it, and, on any given day, about 90% of the 3 active cohorts of 22 students visit the break area. How likely is it that the break area gets cleaned up each day? How likely is it that it goes two days without getting cleaned up? All week?"
   ]
  },
  {
   "cell_type": "code",
   "execution_count": 100,
   "id": "801ddd54",
   "metadata": {},
   "outputs": [
    {
     "data": {
      "text/plain": [
       "0.8342199288437352"
      ]
     },
     "execution_count": 100,
     "metadata": {},
     "output_type": "execute_result"
    }
   ],
   "source": [
    "# 66 students * .9 = 59 students visit break area each with a 3% chance of cleaning\n",
    "stats.binom(59,.03).sf(0)"
   ]
  },
  {
   "cell_type": "code",
   "execution_count": 114,
   "id": "692f6238",
   "metadata": {},
   "outputs": [
    {
     "data": {
      "text/plain": [
       "0.027483031992576134"
      ]
     },
     "execution_count": 114,
     "metadata": {},
     "output_type": "execute_result"
    }
   ],
   "source": [
    "# Go two days without cleanup\n",
    "stats.binom(59*2,.03).pmf(0)"
   ]
  },
  {
   "cell_type": "code",
   "execution_count": 115,
   "id": "4ef0e353",
   "metadata": {},
   "outputs": [
    {
     "data": {
      "text/plain": [
       "0.00012521651388091245"
      ]
     },
     "execution_count": 115,
     "metadata": {},
     "output_type": "execute_result"
    }
   ],
   "source": [
    "# Go 5 days without cleanup\n",
    "stats.binom(59*5,.03).pmf(0)"
   ]
  },
  {
   "cell_type": "code",
   "execution_count": 123,
   "id": "1ef9581b",
   "metadata": {},
   "outputs": [
    {
     "data": {
      "text/plain": [
       "0.5595067149347879"
      ]
     },
     "execution_count": 123,
     "metadata": {},
     "output_type": "execute_result"
    }
   ],
   "source": [
    "# Odds the breakroom gets cleaned all 5 days\n",
    "stats.poisson(5,.83).sf(5)"
   ]
  },
  {
   "cell_type": "markdown",
   "id": "408f2f8c",
   "metadata": {},
   "source": [
    "You want to get lunch at La Panaderia, but notice that the line is usually very long at lunchtime. After several weeks of careful observation, you notice that the average number of people in line when your lunch break starts is normally distributed with a mean of 15 and standard deviation of 3. If it takes 2 minutes for each person to order, and 10 minutes from ordering to getting your food, what is the likelihood that you have at least 15 minutes left to eat your food before you have to go back to class? Assume you have one hour for lunch, and ignore travel time to and from La Panaderia."
   ]
  },
  {
   "cell_type": "code",
   "execution_count": 211,
   "id": "c41c4b60",
   "metadata": {},
   "outputs": [
    {
     "data": {
      "text/plain": [
       "0.6914624612740131"
      ]
     },
     "execution_count": 211,
     "metadata": {},
     "output_type": "execute_result"
    }
   ],
   "source": [
    "# Odds that it takes less than 45 min, 10 min to get food, 35 min in line, 16 or less customers\n",
    "stats.norm(15,3).cdf(16.5)"
   ]
  },
  {
   "cell_type": "markdown",
   "id": "73bba88c",
   "metadata": {},
   "source": [
    "Connect to the employees database and find the average salary of current employees, along with the standard deviation. For the following questions, calculate the answer based on modeling the employees salaries with a normal distribution defined by the calculated mean and standard deviation then compare this answer to the actual values present in the salaries dataset.\n",
    "\n",
    "What percent of employees earn less than 60,000?\n",
    "What percent of employees earn more than 95,000?\n",
    "What percent of employees earn between 65,000 and 80,000?\n",
    "What do the top 5% of employees make?"
   ]
  },
  {
   "cell_type": "code",
   "execution_count": 129,
   "id": "6592c428",
   "metadata": {},
   "outputs": [],
   "source": [
    "import pandas as pd\n",
    "import env\n",
    "import datetime\n",
    "\n",
    "url = f'mysql+pymysql://{env.user}:{env.password}@{env.host}/employees'\n",
    "query = 'SELECT * FROM employees JOIN salaries USING (emp_no)'\n",
    "data = pd.read_sql(query, url)\n"
   ]
  },
  {
   "cell_type": "code",
   "execution_count": 141,
   "id": "0f3171de",
   "metadata": {},
   "outputs": [
    {
     "data": {
      "text/html": [
       "<div>\n",
       "<style scoped>\n",
       "    .dataframe tbody tr th:only-of-type {\n",
       "        vertical-align: middle;\n",
       "    }\n",
       "\n",
       "    .dataframe tbody tr th {\n",
       "        vertical-align: top;\n",
       "    }\n",
       "\n",
       "    .dataframe thead th {\n",
       "        text-align: right;\n",
       "    }\n",
       "</style>\n",
       "<table border=\"1\" class=\"dataframe\">\n",
       "  <thead>\n",
       "    <tr style=\"text-align: right;\">\n",
       "      <th></th>\n",
       "      <th>emp_no</th>\n",
       "      <th>birth_date</th>\n",
       "      <th>first_name</th>\n",
       "      <th>last_name</th>\n",
       "      <th>gender</th>\n",
       "      <th>hire_date</th>\n",
       "      <th>salary</th>\n",
       "      <th>from_date</th>\n",
       "      <th>to_date</th>\n",
       "    </tr>\n",
       "  </thead>\n",
       "  <tbody>\n",
       "    <tr>\n",
       "      <th>16</th>\n",
       "      <td>10001</td>\n",
       "      <td>1953-09-02</td>\n",
       "      <td>Georgi</td>\n",
       "      <td>Facello</td>\n",
       "      <td>M</td>\n",
       "      <td>1986-06-26</td>\n",
       "      <td>88958</td>\n",
       "      <td>2002-06-22</td>\n",
       "      <td>9999-01-01</td>\n",
       "    </tr>\n",
       "    <tr>\n",
       "      <th>22</th>\n",
       "      <td>10002</td>\n",
       "      <td>1964-06-02</td>\n",
       "      <td>Bezalel</td>\n",
       "      <td>Simmel</td>\n",
       "      <td>F</td>\n",
       "      <td>1985-11-21</td>\n",
       "      <td>72527</td>\n",
       "      <td>2001-08-02</td>\n",
       "      <td>9999-01-01</td>\n",
       "    </tr>\n",
       "    <tr>\n",
       "      <th>29</th>\n",
       "      <td>10003</td>\n",
       "      <td>1959-12-03</td>\n",
       "      <td>Parto</td>\n",
       "      <td>Bamford</td>\n",
       "      <td>M</td>\n",
       "      <td>1986-08-28</td>\n",
       "      <td>43311</td>\n",
       "      <td>2001-12-01</td>\n",
       "      <td>9999-01-01</td>\n",
       "    </tr>\n",
       "    <tr>\n",
       "      <th>45</th>\n",
       "      <td>10004</td>\n",
       "      <td>1954-05-01</td>\n",
       "      <td>Chirstian</td>\n",
       "      <td>Koblick</td>\n",
       "      <td>M</td>\n",
       "      <td>1986-12-01</td>\n",
       "      <td>74057</td>\n",
       "      <td>2001-11-27</td>\n",
       "      <td>9999-01-01</td>\n",
       "    </tr>\n",
       "    <tr>\n",
       "      <th>58</th>\n",
       "      <td>10005</td>\n",
       "      <td>1955-01-21</td>\n",
       "      <td>Kyoichi</td>\n",
       "      <td>Maliniak</td>\n",
       "      <td>M</td>\n",
       "      <td>1989-09-12</td>\n",
       "      <td>94692</td>\n",
       "      <td>2001-09-09</td>\n",
       "      <td>9999-01-01</td>\n",
       "    </tr>\n",
       "  </tbody>\n",
       "</table>\n",
       "</div>"
      ],
      "text/plain": [
       "    emp_no  birth_date first_name last_name gender   hire_date  salary  \\\n",
       "16   10001  1953-09-02     Georgi   Facello      M  1986-06-26   88958   \n",
       "22   10002  1964-06-02    Bezalel    Simmel      F  1985-11-21   72527   \n",
       "29   10003  1959-12-03      Parto   Bamford      M  1986-08-28   43311   \n",
       "45   10004  1954-05-01  Chirstian   Koblick      M  1986-12-01   74057   \n",
       "58   10005  1955-01-21    Kyoichi  Maliniak      M  1989-09-12   94692   \n",
       "\n",
       "     from_date     to_date  \n",
       "16  2002-06-22  9999-01-01  \n",
       "22  2001-08-02  9999-01-01  \n",
       "29  2001-12-01  9999-01-01  \n",
       "45  2001-11-27  9999-01-01  \n",
       "58  2001-09-09  9999-01-01  "
      ]
     },
     "execution_count": 141,
     "metadata": {},
     "output_type": "execute_result"
    }
   ],
   "source": [
    "date_before = datetime.date(2016, 1, 19)\n",
    "data = data[data['to_date']>date_before]\n",
    "data.head()"
   ]
  },
  {
   "cell_type": "code",
   "execution_count": 143,
   "id": "f4fa131c",
   "metadata": {},
   "outputs": [],
   "source": [
    "sal_mean = data['salary'].mean()\n",
    "sal_std = data['salary'].std()"
   ]
  },
  {
   "cell_type": "code",
   "execution_count": 154,
   "id": "a86da0dc",
   "metadata": {},
   "outputs": [],
   "source": [
    "model_dist = pd.Series(stats.norm(sal_mean,sal_std).rvs(10000))"
   ]
  },
  {
   "cell_type": "markdown",
   "id": "1dd4bf0b",
   "metadata": {},
   "source": [
    "What percent of employees earn less than 60,000? What percent of employees earn more than 95,000? What percent of employees earn between 65,000 and 80,000? What do the top 5% of employees make?"
   ]
  },
  {
   "cell_type": "code",
   "execution_count": 158,
   "id": "bcc1dde6",
   "metadata": {},
   "outputs": [
    {
     "name": "stdout",
     "output_type": "stream",
     "text": [
      "Real data < $60,000: 0.27\n",
      "Simulated data < $60,000: 0.25\n"
     ]
    }
   ],
   "source": [
    "print(f\"Real data < $60,000: {round(len(data[data['salary']<60000])/len(data),2)}\")\n",
    "print(f\"Simulated data < $60,000: {round((model_dist<60000).sum()/len(model_dist),2)}\")"
   ]
  },
  {
   "cell_type": "code",
   "execution_count": 159,
   "id": "864b021a",
   "metadata": {},
   "outputs": [
    {
     "name": "stdout",
     "output_type": "stream",
     "text": [
      "Real data > $95,000: 0.11\n",
      "Simulated data > $95,000: 0.09\n"
     ]
    }
   ],
   "source": [
    "print(f\"Real data > $95,000: {round(len(data[data['salary']>95000])/len(data),2)}\")\n",
    "print(f\"Simulated data > $95,000: {round((model_dist>95000).sum()/len(model_dist),2)}\")"
   ]
  },
  {
   "cell_type": "code",
   "execution_count": 177,
   "id": "d588fcbd",
   "metadata": {},
   "outputs": [
    {
     "name": "stdout",
     "output_type": "stream",
     "text": [
      "Real data between $65,000 & $85,000: 0.4\n",
      "Simulated data between $65,000 & $85,000: 0.34\n"
     ]
    }
   ],
   "source": [
    "print(f\"Real data between $65,000 & $85,000: {round(len(data[data['salary'].between(65000,85000)])/len(data),2)}\")\n",
    "print(f\"Simulated data between $65,000 & $85,000: {round(((model_dist>65000) & (model_dist<80000)).sum()/len(model_dist),2)}\")"
   ]
  },
  {
   "cell_type": "markdown",
   "id": "1672bbb7",
   "metadata": {},
   "source": [
    " What do the top 5% of employees make?\n"
   ]
  },
  {
   "cell_type": "code",
   "execution_count": 193,
   "id": "d91ba713",
   "metadata": {},
   "outputs": [
    {
     "data": {
      "text/plain": [
       "104225.84999999998"
      ]
     },
     "execution_count": 193,
     "metadata": {},
     "output_type": "execute_result"
    }
   ],
   "source": [
    "data['salary'].describe([.95])['95%']"
   ]
  },
  {
   "cell_type": "code",
   "execution_count": 194,
   "id": "0e2890c3",
   "metadata": {},
   "outputs": [
    {
     "data": {
      "text/plain": [
       "100484.64454102775"
      ]
     },
     "execution_count": 194,
     "metadata": {},
     "output_type": "execute_result"
    }
   ],
   "source": [
    "stats.norm(sal_mean,sal_std).ppf(.95)"
   ]
  },
  {
   "cell_type": "code",
   "execution_count": null,
   "id": "aea77043",
   "metadata": {},
   "outputs": [],
   "source": []
  }
 ],
 "metadata": {
  "kernelspec": {
   "display_name": "Python 3 (ipykernel)",
   "language": "python",
   "name": "python3"
  },
  "language_info": {
   "codemirror_mode": {
    "name": "ipython",
    "version": 3
   },
   "file_extension": ".py",
   "mimetype": "text/x-python",
   "name": "python",
   "nbconvert_exporter": "python",
   "pygments_lexer": "ipython3",
   "version": "3.9.7"
  }
 },
 "nbformat": 4,
 "nbformat_minor": 5
}
