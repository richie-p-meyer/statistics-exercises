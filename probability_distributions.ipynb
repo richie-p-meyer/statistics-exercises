{
 "cells": [
  {
   "cell_type": "code",
   "execution_count": 8,
   "id": "1e272bdb",
   "metadata": {},
   "outputs": [],
   "source": [
    "import matplotlib.pyplot as plt\n",
    "import numpy as np\n",
    "from scipy import stats\n",
    "import viz # curriculum viz example code\n",
    "import pandas as pd\n",
    "\n",
    "np.random.seed(123)\n"
   ]
  },
  {
   "cell_type": "markdown",
   "id": "7ce8e61f",
   "metadata": {},
   "source": [
    "A bank found that the average number of cars waiting during the noon hour at a drive-up window follows a Poisson distribution with a mean of 2 cars. Make a chart of this distribution and answer these questions concerning the probability of cars waiting at the drive-up window.\n",
    "\n",
    "What is the probability that no cars drive up in the noon hour?\n",
    "What is the probability that 3 or more cars come through the drive through?\n",
    "How likely is it that the drive through gets at least 1 car?"
   ]
  },
  {
   "cell_type": "code",
   "execution_count": 60,
   "id": "da327ead",
   "metadata": {},
   "outputs": [
    {
     "data": {
      "text/plain": [
       "<BarContainer object of 10 artists>"
      ]
     },
     "execution_count": 60,
     "metadata": {},
     "output_type": "execute_result"
    },
    {
     "data": {
      "image/png": "[encoded data removed]",
      "text/plain": [
       "<Figure size 432x288 with 1 Axes>"
      ]
     },
     "metadata": {
      "needs_background": "light"
     },
     "output_type": "display_data"
    }
   ],
   "source": [
    "data = pd.Series(stats.poisson(2).rvs(10000))\n",
    "data.value_counts()\n",
    "plt.bar(data.value_counts().index,data.value_counts())"
   ]
  },
  {
   "cell_type": "code",
   "execution_count": 63,
   "id": "be7e85d8",
   "metadata": {},
   "outputs": [
    {
     "data": {
      "text/plain": [
       "0.1353352832366127"
      ]
     },
     "execution_count": 63,
     "metadata": {},
     "output_type": "execute_result"
    }
   ],
   "source": [
    "#Odds that no cars drive up\n",
    "stats.poisson(2).pmf(0)"
   ]
  },
  {
   "cell_type": "code",
   "execution_count": 69,
   "id": "d10daba8",
   "metadata": {},
   "outputs": [
    {
     "data": {
      "text/plain": [
       "0.32332358381693654"
      ]
     },
     "execution_count": 69,
     "metadata": {},
     "output_type": "execute_result"
    }
   ],
   "source": [
    "#Odds of 3 or more\n",
    "stats.poisson(2).sf(2)"
   ]
  },
  {
   "cell_type": "code",
   "execution_count": 70,
   "id": "e8480d07",
   "metadata": {},
   "outputs": [
    {
     "data": {
      "text/plain": [
       "0.8646647167633873"
      ]
     },
     "execution_count": 70,
     "metadata": {},
     "output_type": "execute_result"
    }
   ],
   "source": [
    "#Odds of at least 1 car\n",
    "stats.poisson(2).sf(0)"
   ]
  },
  {
   "cell_type": "markdown",
   "id": "b97be846",
   "metadata": {},
   "source": [
    "Grades of State University graduates are normally distributed with a mean of 3.0 and a standard deviation of .3. Calculate the following:\n",
    "\n",
    "What grade point average is required to be in the top 5% of the graduating class?\n",
    "What GPA constitutes the bottom 15% of the class?\n",
    "An eccentric alumnus left scholarship money for students in the third decile from the bottom of their class. Determine the range of the third decile. Would a student with a 2.8 grade point average qualify for this scholarship?\n",
    "If I have a GPA of 3.5, what percentile am I in?"
   ]
  },
  {
   "cell_type": "code",
   "execution_count": 71,
   "id": "ba0f5003",
   "metadata": {},
   "outputs": [],
   "source": [
    "data = stats.norm(3,.3)"
   ]
  },
  {
   "cell_type": "code",
   "execution_count": 79,
   "id": "7cbf8909",
   "metadata": {},
   "outputs": [
    {
     "data": {
      "text/plain": [
       "3.4934560880854417"
      ]
     },
     "execution_count": 79,
     "metadata": {},
     "output_type": "execute_result"
    }
   ],
   "source": [
    "data.ppf(.95)"
   ]
  },
  {
   "cell_type": "code",
   "execution_count": 75,
   "id": "71fc5ba6",
   "metadata": {},
   "outputs": [
    {
     "data": {
      "text/plain": [
       "1.0494515075362604e-21"
      ]
     },
     "execution_count": 75,
     "metadata": {},
     "output_type": "execute_result"
    }
   ],
   "source": [
    "data.cdf(.15)"
   ]
  },
  {
   "cell_type": "code",
   "execution_count": 86,
   "id": "36a5e510",
   "metadata": {},
   "outputs": [
    {
     "data": {
      "text/plain": [
       "count    1000.000000\n",
       "mean        2.985187\n",
       "std         0.300552\n",
       "min         2.099617\n",
       "20%         2.727492\n",
       "30%         2.815752\n",
       "50%         2.983506\n",
       "max         3.875802\n",
       "dtype: float64"
      ]
     },
     "execution_count": 86,
     "metadata": {},
     "output_type": "execute_result"
    }
   ],
   "source": [
    "# A student with 2.8 gpa would qualify for the third decile scholarship\n",
    "pd.Series(data.rvs(1000)).describe([.2,.3])"
   ]
  },
  {
   "cell_type": "code",
   "execution_count": null,
   "id": "1baf368a",
   "metadata": {},
   "outputs": [],
   "source": []
  }
 ],
 "metadata": {
  "kernelspec": {
   "display_name": "Python 3 (ipykernel)",
   "language": "python",
   "name": "python3"
  },
  "language_info": {
   "codemirror_mode": {
    "name": "ipython",
    "version": 3
   },
   "file_extension": ".py",
   "mimetype": "text/x-python",
   "name": "python",
   "nbconvert_exporter": "python",
   "pygments_lexer": "ipython3",
   "version": "3.9.7"
  }
 },
 "nbformat": 4,
 "nbformat_minor": 5
}
